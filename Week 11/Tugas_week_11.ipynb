{
  "nbformat": 4,
  "nbformat_minor": 0,
  "metadata": {
    "colab": {
      "provenance": []
    },
    "kernelspec": {
      "name": "python3",
      "display_name": "Python 3"
    },
    "language_info": {
      "name": "python"
    }
  },
  "cells": [
    {
      "cell_type": "code",
      "execution_count": null,
      "metadata": {
        "id": "Tbr0pUk2gLtl"
      },
      "outputs": [],
      "source": [
        "import sys\n",
        "sys.path.append('/content')"
      ]
    },
    {
      "cell_type": "code",
      "source": [
        "import mymodule\n",
        "\n",
        "mymodule.greeting(\"Chanif\")"
      ],
      "metadata": {
        "colab": {
          "base_uri": "https://localhost:8080/"
        },
        "id": "T_5Uupwjg59D",
        "outputId": "2c0094dc-35aa-44cd-8961-09527e941f6c"
      },
      "execution_count": null,
      "outputs": [
        {
          "output_type": "stream",
          "name": "stdout",
          "text": [
            "Hello, Chanif\n"
          ]
        }
      ]
    },
    {
      "cell_type": "code",
      "source": [
        "import mymodule2\n",
        "\n",
        "a = mymodule2.person1[\"age\"]\n",
        "print(a)"
      ],
      "metadata": {
        "colab": {
          "base_uri": "https://localhost:8080/"
        },
        "id": "S1YnDg-7hAz-",
        "outputId": "9231e6de-affd-4bd8-99fe-b4cd6b927fc2"
      },
      "execution_count": null,
      "outputs": [
        {
          "output_type": "stream",
          "name": "stdout",
          "text": [
            "36\n"
          ]
        }
      ]
    },
    {
      "cell_type": "code",
      "source": [
        "import mymodule2 as mx\n",
        "\n",
        "a = mx.person1[\"age\"]\n",
        "print(a)"
      ],
      "metadata": {
        "colab": {
          "base_uri": "https://localhost:8080/"
        },
        "id": "L-EwpkGXhpQ9",
        "outputId": "36efe765-e5e5-4115-a31e-863c15f387ce"
      },
      "execution_count": null,
      "outputs": [
        {
          "metadata": {
            "tags": null
          },
          "name": "stdout",
          "output_type": "stream",
          "text": [
            "36\n"
          ]
        }
      ]
    },
    {
      "cell_type": "code",
      "source": [
        "#Import and use the pltform module:\n",
        "import platform\n",
        "\n",
        "x = platform.system()\n",
        "print(x)"
      ],
      "metadata": {
        "colab": {
          "base_uri": "https://localhost:8080/"
        },
        "id": "ei3Znui1h8Wi",
        "outputId": "d21dcb94-288d-47aa-f683-238ddf63d39f"
      },
      "execution_count": null,
      "outputs": [
        {
          "output_type": "stream",
          "name": "stdout",
          "text": [
            "Linux\n"
          ]
        }
      ]
    },
    {
      "cell_type": "code",
      "source": [
        "#list all the defined names beloging to the platform module:\n",
        "\n",
        "import platform\n",
        "\n",
        "x = dir(platform)\n",
        "print(x)"
      ],
      "metadata": {
        "colab": {
          "base_uri": "https://localhost:8080/"
        },
        "id": "roeVZ5mqibwL",
        "outputId": "1f7545c9-a35b-4043-9872-6ba03e8c2247"
      },
      "execution_count": null,
      "outputs": [
        {
          "output_type": "stream",
          "name": "stdout",
          "text": [
            "['_Processor', '_WIN32_CLIENT_RELEASES', '_WIN32_SERVER_RELEASES', '__builtins__', '__cached__', '__copyright__', '__doc__', '__file__', '__loader__', '__name__', '__package__', '__spec__', '__version__', '_comparable_version', '_component_re', '_default_architecture', '_follow_symlinks', '_get_machine_win32', '_ironpython26_sys_version_parser', '_ironpython_sys_version_parser', '_java_getprop', '_libc_search', '_mac_ver_xml', '_node', '_norm_version', '_os_release_cache', '_os_release_candidates', '_os_release_line', '_os_release_unescape', '_parse_os_release', '_platform', '_platform_cache', '_pypy_sys_version_parser', '_sys_version', '_sys_version_cache', '_sys_version_parser', '_syscmd_file', '_syscmd_ver', '_uname_cache', '_unknown_as_blank', '_ver_output', '_ver_stages', 'architecture', 'collections', 'freedesktop_os_release', 'functools', 'itertools', 'java_ver', 'libc_ver', 'mac_ver', 'machine', 'node', 'os', 'platform', 'processor', 'python_branch', 'python_build', 'python_compiler', 'python_implementation', 'python_revision', 'python_version', 'python_version_tuple', 're', 'release', 'subprocess', 'sys', 'system', 'system_alias', 'uname', 'uname_result', 'version', 'win32_edition', 'win32_is_iot', 'win32_ver']\n"
          ]
        }
      ]
    },
    {
      "cell_type": "code",
      "source": [
        "from mymodule3 import person1\n",
        "\n",
        "print(person1[\"age\"])"
      ],
      "metadata": {
        "colab": {
          "base_uri": "https://localhost:8080/"
        },
        "id": "qGahJ1DeiuRY",
        "outputId": "7db2278f-6e60-48b0-d3be-336cbcd4115c"
      },
      "execution_count": null,
      "outputs": [
        {
          "output_type": "stream",
          "name": "stdout",
          "text": [
            "36\n"
          ]
        }
      ]
    },
    {
      "cell_type": "code",
      "source": [
        "import matematika\n",
        "\"\"\"Luas Lingkaran\"\"\"\n",
        "r = int(input(\"Masukkan jari-jari lingkaran: \"))\n",
        "luaslingkaran = matematika.luas_lingkaran(r)\n",
        "print(f\"Lingkaran dengan jari-jari {r} adalah {luaslingkaran}\")\n",
        "\n",
        "\"\"\"Luas Persegi\"\"\"\n",
        "s = int(input(\"Panjang sisi persegi: \"))\n",
        "luas_persegi = matematika.luas_persegi(s)\n",
        "print(f\"Luas persegi dengan sisi {s} adalah: {luas_persegi}\")"
      ],
      "metadata": {
        "id": "PIPOPyLyjeRe",
        "colab": {
          "base_uri": "https://localhost:8080/"
        },
        "outputId": "4bd17999-1b56-478a-b105-f8835cd717b5"
      },
      "execution_count": 1,
      "outputs": [
        {
          "output_type": "stream",
          "name": "stdout",
          "text": [
            "Masukkan jari-jari lingkaran: 5\n",
            "Lingkaran dengan jari-jari 5 adalah 78.5\n",
            "Panjang sisi persegi: 5\n",
            "Luas persegi dengan sisi 5 adalah: 25\n"
          ]
        }
      ]
    },
    {
      "cell_type": "code",
      "source": [
        "s = int(input(\"Masukkan sisi persegi: \"))\n",
        "luaspersegi = matematika.luas_persegi(s)\n",
        "print(f\"Luas persegi dengan sisi\",s, \"cm\" ,\"adalah\",luaspersegi, \"cm\")"
      ],
      "metadata": {
        "colab": {
          "base_uri": "https://localhost:8080/"
        },
        "id": "USNIygv0qVCh",
        "outputId": "dc996466-51a0-4bab-ec91-54fe7edbef88"
      },
      "execution_count": null,
      "outputs": [
        {
          "output_type": "stream",
          "name": "stdout",
          "text": [
            "Masukkan sisi persegi: 5\n",
            "Luas persegi dengan sisi 5 cm adalah 25 cm\n"
          ]
        }
      ]
    },
    {
      "cell_type": "code",
      "source": [
        "import math\n",
        "print(\"--Built-in module math pada python--\")\n",
        "x = 16\n",
        "sqrt_result = math.sqrt(x)\n",
        "print(f\"1. Akar kuadrat dari {x} adalah {sqrt_result}\")\n",
        "\n",
        "base = 5\n",
        "exponent = 3\n",
        "power_result = math.pow(base, exponent)\n",
        "print(f\"2. {base} pangkat {exponent} adalah {power_result}\")\n",
        "\n",
        "n = 5\n",
        "factorial_result = math.factorial(n)\n",
        "print(f\"3. Faktorial dari {n} adalah {factorial_result}\")\n",
        "\n",
        "a = 48\n",
        "b = 18\n",
        "gcd_result = math.gcd(a, b)\n",
        "print(f\"4. FPB dari {a} dan {b} adalah {gcd_result}\")\n",
        "\n",
        "degree = 180\n",
        "radian_result = math.radians(degree)\n",
        "print(f\"5. {degree} derajat dalam radian adalah {radian_result}\")"
      ],
      "metadata": {
        "id": "M1FV9iBCrAhY",
        "colab": {
          "base_uri": "https://localhost:8080/"
        },
        "outputId": "f1ff5e41-ee19-4699-d8c0-693958dfeaf8"
      },
      "execution_count": 2,
      "outputs": [
        {
          "output_type": "stream",
          "name": "stdout",
          "text": [
            "--Built-in module math pada python--\n",
            "1. Akar kuadrat dari 16 adalah 4.0\n",
            "2. 5 pangkat 3 adalah 125.0\n",
            "3. Faktorial dari 5 adalah 120\n",
            "4. FPB dari 48 dan 18 adalah 6\n",
            "5. 180 derajat dalam radian adalah 3.141592653589793\n"
          ]
        }
      ]
    },
    {
      "cell_type": "code",
      "source": [],
      "metadata": {
        "id": "axu4WVpSd983"
      },
      "execution_count": null,
      "outputs": []
    }
  ]
}