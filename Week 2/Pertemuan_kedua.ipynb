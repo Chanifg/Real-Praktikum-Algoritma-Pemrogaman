{
  "nbformat": 4,
  "nbformat_minor": 0,
  "metadata": {
    "colab": {
      "provenance": [],
      "toc_visible": true
    },
    "kernelspec": {
      "name": "python3",
      "display_name": "Python 3"
    },
    "language_info": {
      "name": "python"
    }
  },
  "cells": [
    {
      "cell_type": "code",
      "execution_count": null,
      "metadata": {
        "colab": {
          "base_uri": "https://localhost:8080/"
        },
        "id": "U8_ge0VPE6II",
        "outputId": "d8191aff-60c3-48bf-9bf1-a478393e5c3a"
      },
      "outputs": [
        {
          "output_type": "execute_result",
          "data": {
            "text/plain": [
              "11"
            ]
          },
          "metadata": {},
          "execution_count": 2
        }
      ],
      "source": [
        "# Integer\n",
        "\n",
        "11"
      ]
    },
    {
      "cell_type": "code",
      "source": [
        "# Float\n",
        "\n",
        "2.14"
      ],
      "metadata": {
        "colab": {
          "base_uri": "https://localhost:8080/"
        },
        "id": "HL39XbyGFPIi",
        "outputId": "598a40cd-2e8f-4bf9-d578-ced61e7c5a2c"
      },
      "execution_count": null,
      "outputs": [
        {
          "output_type": "execute_result",
          "data": {
            "text/plain": [
              "2.14"
            ]
          },
          "metadata": {},
          "execution_count": 3
        }
      ]
    },
    {
      "cell_type": "code",
      "source": [
        "# String\n",
        "#print(\"Hello, Python 102!\")\n",
        "\n",
        "\"Hello, Python 102!\""
      ],
      "metadata": {
        "colab": {
          "base_uri": "https://localhost:8080/",
          "height": 36
        },
        "id": "hGG9LJAzFXuS",
        "outputId": "657fe351-3511-4bef-f198-f0ba3b3c681d"
      },
      "execution_count": null,
      "outputs": [
        {
          "output_type": "execute_result",
          "data": {
            "text/plain": [
              "'Hello, Python 102!'"
            ],
            "application/vnd.google.colaboratory.intrinsic+json": {
              "type": "string"
            }
          },
          "metadata": {},
          "execution_count": 4
        }
      ]
    },
    {
      "cell_type": "code",
      "source": [
        "# Type of 12\n",
        "\n",
        "type(12)"
      ],
      "metadata": {
        "colab": {
          "base_uri": "https://localhost:8080/"
        },
        "id": "FREAVoycFo5K",
        "outputId": "2901c735-eee2-4e53-8722-f007973d4e1c"
      },
      "execution_count": null,
      "outputs": [
        {
          "output_type": "execute_result",
          "data": {
            "text/plain": [
              "int"
            ]
          },
          "metadata": {},
          "execution_count": 6
        }
      ]
    },
    {
      "cell_type": "code",
      "source": [
        "# Type of 2.14\n",
        "\n",
        "type(2.14)"
      ],
      "metadata": {
        "colab": {
          "base_uri": "https://localhost:8080/"
        },
        "id": "OMlWcEvXF7ml",
        "outputId": "8a6c6621-154e-4905-a3d8-71ad0612e8f0"
      },
      "execution_count": null,
      "outputs": [
        {
          "output_type": "execute_result",
          "data": {
            "text/plain": [
              "float"
            ]
          },
          "metadata": {},
          "execution_count": 7
        }
      ]
    },
    {
      "cell_type": "code",
      "source": [
        "# Type of \"Hello, Python 101!\"\n",
        "\n",
        "type(\"Hello, Python 101!\")"
      ],
      "metadata": {
        "colab": {
          "base_uri": "https://localhost:8080/"
        },
        "id": "RQd50lM4GCCO",
        "outputId": "ab37a32d-6434-40d2-eeaa-745afe5e1d1a"
      },
      "execution_count": null,
      "outputs": [
        {
          "output_type": "execute_result",
          "data": {
            "text/plain": [
              "str"
            ]
          },
          "metadata": {},
          "execution_count": 8
        }
      ]
    },
    {
      "cell_type": "code",
      "source": [
        "# Write your code below, Don't forget to press Shift+Enter to execute the cell\n",
        "\n",
        "type(12.0)"
      ],
      "metadata": {
        "colab": {
          "base_uri": "https://localhost:8080/"
        },
        "id": "86A784UrGMlX",
        "outputId": "d6ae3356-037d-4f40-adf6-593299980591"
      },
      "execution_count": null,
      "outputs": [
        {
          "output_type": "execute_result",
          "data": {
            "text/plain": [
              "float"
            ]
          },
          "metadata": {},
          "execution_count": 9
        }
      ]
    },
    {
      "cell_type": "code",
      "source": [
        "#Print the type of 1.0\n",
        "\n",
        "type(1.0) # Notice that 1 is an int, and 1.0 is a float"
      ],
      "metadata": {
        "colab": {
          "base_uri": "https://localhost:8080/"
        },
        "id": "mGPbNqRmGskN",
        "outputId": "3812dadc-3f48-4abe-d26e-3334798c2ac4"
      },
      "execution_count": null,
      "outputs": [
        {
          "output_type": "execute_result",
          "data": {
            "text/plain": [
              "float"
            ]
          },
          "metadata": {},
          "execution_count": 10
        }
      ]
    },
    {
      "cell_type": "code",
      "source": [
        "# Print the type of 0.5\n",
        "\n",
        "type(0.5)"
      ],
      "metadata": {
        "colab": {
          "base_uri": "https://localhost:8080/"
        },
        "id": "5S-8LoJCHiYb",
        "outputId": "f7bba91f-fb87-49d8-9f89-3c0f4a6af7be"
      },
      "execution_count": null,
      "outputs": [
        {
          "output_type": "execute_result",
          "data": {
            "text/plain": [
              "float"
            ]
          },
          "metadata": {},
          "execution_count": 12
        }
      ]
    },
    {
      "cell_type": "code",
      "source": [
        "#print the type of 0.56\n",
        "\n",
        "type(0.56)"
      ],
      "metadata": {
        "colab": {
          "base_uri": "https://localhost:8080/"
        },
        "id": "_z4sxwOQHnYP",
        "outputId": "178c4fda-3d21-461b-e2ae-a5bdb14c5837"
      },
      "execution_count": null,
      "outputs": [
        {
          "output_type": "execute_result",
          "data": {
            "text/plain": [
              "float"
            ]
          },
          "metadata": {},
          "execution_count": 13
        }
      ]
    },
    {
      "cell_type": "code",
      "source": [
        "#system setting about float type\n",
        "import sys # it is needes to declare the library \"sys\" before using it\n",
        "sys.float_info"
      ],
      "metadata": {
        "colab": {
          "base_uri": "https://localhost:8080/"
        },
        "id": "FlMJXoxvHwxz",
        "outputId": "2a6bf761-45f1-48d6-f693-4b39db1c1d9b"
      },
      "execution_count": null,
      "outputs": [
        {
          "output_type": "execute_result",
          "data": {
            "text/plain": [
              "sys.float_info(max=1.7976931348623157e+308, max_exp=1024, max_10_exp=308, min=2.2250738585072014e-308, min_exp=-1021, min_10_exp=-307, dig=15, mant_dig=53, epsilon=2.220446049250313e-16, radix=2, rounds=1)"
            ]
          },
          "metadata": {},
          "execution_count": 14
        }
      ]
    },
    {
      "cell_type": "markdown",
      "source": [
        "Mengonversi dari satu objek ke jenis objek yang berbeda"
      ],
      "metadata": {
        "id": "6lQxdyahIM58"
      }
    },
    {
      "cell_type": "code",
      "source": [
        "# Verify that this ia an integer\n",
        "\n",
        "type(2)"
      ],
      "metadata": {
        "colab": {
          "base_uri": "https://localhost:8080/"
        },
        "id": "c5DRxBH2IWDt",
        "outputId": "c42902bb-5e7b-4587-f679-e9f676580651"
      },
      "execution_count": null,
      "outputs": [
        {
          "output_type": "execute_result",
          "data": {
            "text/plain": [
              "int"
            ]
          },
          "metadata": {},
          "execution_count": 15
        }
      ]
    },
    {
      "cell_type": "code",
      "source": [
        "# Convert 2 to a float\n",
        "\n",
        "float(2)"
      ],
      "metadata": {
        "colab": {
          "base_uri": "https://localhost:8080/"
        },
        "id": "xccht-K7IaJl",
        "outputId": "9a42a109-1412-4404-d2af-25a09f4f53d3"
      },
      "execution_count": null,
      "outputs": [
        {
          "output_type": "execute_result",
          "data": {
            "text/plain": [
              "2.0"
            ]
          },
          "metadata": {},
          "execution_count": 16
        }
      ]
    },
    {
      "cell_type": "code",
      "source": [
        "# convert integer 2 to a float and check this type\n",
        "\n",
        "type(float(2))"
      ],
      "metadata": {
        "colab": {
          "base_uri": "https://localhost:8080/"
        },
        "id": "43kMqpfWImFE",
        "outputId": "a51a10ef-db1d-4465-bf78-a15f7b25aa2e"
      },
      "execution_count": null,
      "outputs": [
        {
          "output_type": "execute_result",
          "data": {
            "text/plain": [
              "float"
            ]
          },
          "metadata": {},
          "execution_count": 17
        }
      ]
    },
    {
      "cell_type": "code",
      "source": [
        "# Casting 1.1 to integer will result in loss of information\n",
        "\n",
        "int(1.1)"
      ],
      "metadata": {
        "colab": {
          "base_uri": "https://localhost:8080/"
        },
        "id": "Qf7zvPxNIyOD",
        "outputId": "e4bac72d-3960-4c8a-a824-67cd68dce73e"
      },
      "execution_count": null,
      "outputs": [
        {
          "output_type": "execute_result",
          "data": {
            "text/plain": [
              "1"
            ]
          },
          "metadata": {},
          "execution_count": 18
        }
      ]
    },
    {
      "cell_type": "code",
      "source": [
        "# convert a string into an integer\n",
        "\n",
        "int('1')"
      ],
      "metadata": {
        "colab": {
          "base_uri": "https://localhost:8080/"
        },
        "id": "5nh983cZJH11",
        "outputId": "b9671f56-c8a7-4c55-e661-be873d8b4caf"
      },
      "execution_count": null,
      "outputs": [
        {
          "output_type": "execute_result",
          "data": {
            "text/plain": [
              "1"
            ]
          },
          "metadata": {},
          "execution_count": 19
        }
      ]
    },
    {
      "cell_type": "code",
      "source": [
        "# convert a string into an integer whit error\n",
        "\n",
        "int('1 or 2 people')"
      ],
      "metadata": {
        "colab": {
          "base_uri": "https://localhost:8080/",
          "height": 183
        },
        "id": "VGPREGYZJj4F",
        "outputId": "0e4bbf4c-8007-4397-d81d-4c9a0b5fec42"
      },
      "execution_count": null,
      "outputs": [
        {
          "output_type": "error",
          "ename": "ValueError",
          "evalue": "invalid literal for int() with base 10: '1 or 2 people'",
          "traceback": [
            "\u001b[0;31m---------------------------------------------------------------------------\u001b[0m",
            "\u001b[0;31mValueError\u001b[0m                                Traceback (most recent call last)",
            "\u001b[0;32m<ipython-input-20-8c02258c4ce4>\u001b[0m in \u001b[0;36m<cell line: 3>\u001b[0;34m()\u001b[0m\n\u001b[1;32m      1\u001b[0m \u001b[0;31m# convert a string into an integer whit error\u001b[0m\u001b[0;34m\u001b[0m\u001b[0;34m\u001b[0m\u001b[0m\n\u001b[1;32m      2\u001b[0m \u001b[0;34m\u001b[0m\u001b[0m\n\u001b[0;32m----> 3\u001b[0;31m \u001b[0mint\u001b[0m\u001b[0;34m(\u001b[0m\u001b[0;34m'1 or 2 people'\u001b[0m\u001b[0;34m)\u001b[0m\u001b[0;34m\u001b[0m\u001b[0;34m\u001b[0m\u001b[0m\n\u001b[0m",
            "\u001b[0;31mValueError\u001b[0m: invalid literal for int() with base 10: '1 or 2 people'"
          ]
        }
      ]
    },
    {
      "cell_type": "code",
      "source": [
        "# convert the string \"1.2\" into a float\n",
        "\n",
        "float('1.2')"
      ],
      "metadata": {
        "colab": {
          "base_uri": "https://localhost:8080/"
        },
        "id": "FrXkQxOnJY4Q",
        "outputId": "d558e292-7c34-4010-fc2e-e810acd19a4b"
      },
      "execution_count": null,
      "outputs": [
        {
          "output_type": "execute_result",
          "data": {
            "text/plain": [
              "1.2"
            ]
          },
          "metadata": {},
          "execution_count": 21
        }
      ]
    },
    {
      "cell_type": "code",
      "source": [
        "# convert an integer to a string\n",
        "\n",
        "str(1)"
      ],
      "metadata": {
        "colab": {
          "base_uri": "https://localhost:8080/",
          "height": 36
        },
        "id": "e3jH0ehnKJZY",
        "outputId": "e781c2b8-da41-411a-bab2-52e584438d2c"
      },
      "execution_count": null,
      "outputs": [
        {
          "output_type": "execute_result",
          "data": {
            "text/plain": [
              "'1'"
            ],
            "application/vnd.google.colaboratory.intrinsic+json": {
              "type": "string"
            }
          },
          "metadata": {},
          "execution_count": 22
        }
      ]
    },
    {
      "cell_type": "code",
      "source": [
        "# convert a float to a string\n",
        "\n",
        "str(1.2)"
      ],
      "metadata": {
        "colab": {
          "base_uri": "https://localhost:8080/",
          "height": 36
        },
        "id": "Bnav1ZlgKgVs",
        "outputId": "1b6df0b3-0869-451d-cb2a-67f224847fff"
      },
      "execution_count": null,
      "outputs": [
        {
          "output_type": "execute_result",
          "data": {
            "text/plain": [
              "'1.2'"
            ],
            "application/vnd.google.colaboratory.intrinsic+json": {
              "type": "string"
            }
          },
          "metadata": {},
          "execution_count": 23
        }
      ]
    },
    {
      "cell_type": "code",
      "source": [
        "# Value True\n",
        "\n",
        "True"
      ],
      "metadata": {
        "colab": {
          "base_uri": "https://localhost:8080/"
        },
        "id": "lBZzCEpiydsd",
        "outputId": "af25f172-a4a0-4f13-cece-9160529e6aad"
      },
      "execution_count": null,
      "outputs": [
        {
          "output_type": "execute_result",
          "data": {
            "text/plain": [
              "True"
            ]
          },
          "metadata": {},
          "execution_count": 1
        }
      ]
    },
    {
      "cell_type": "code",
      "source": [
        "# value False\n",
        "\n",
        "False"
      ],
      "metadata": {
        "colab": {
          "base_uri": "https://localhost:8080/"
        },
        "id": "YpKXA-7wyjAn",
        "outputId": "735ccb47-7984-4221-d6f8-c720d7f60c35"
      },
      "execution_count": null,
      "outputs": [
        {
          "output_type": "execute_result",
          "data": {
            "text/plain": [
              "False"
            ]
          },
          "metadata": {},
          "execution_count": 2
        }
      ]
    },
    {
      "cell_type": "code",
      "source": [
        "# Type of True\n",
        "\n",
        "type(False)"
      ],
      "metadata": {
        "colab": {
          "base_uri": "https://localhost:8080/"
        },
        "id": "hZiONmWsytth",
        "outputId": "3d727717-9728-4210-daca-4a9e34dc29c2"
      },
      "execution_count": null,
      "outputs": [
        {
          "output_type": "execute_result",
          "data": {
            "text/plain": [
              "bool"
            ]
          },
          "metadata": {},
          "execution_count": 3
        }
      ]
    },
    {
      "cell_type": "code",
      "source": [
        "# Convert True to int\n",
        "\n",
        "int(True)"
      ],
      "metadata": {
        "colab": {
          "base_uri": "https://localhost:8080/"
        },
        "id": "JLn2vcBu0Fhr",
        "outputId": "b5b15a65-b195-4e68-a84c-b6f4f9a6477b"
      },
      "execution_count": null,
      "outputs": [
        {
          "output_type": "execute_result",
          "data": {
            "text/plain": [
              "1"
            ]
          },
          "metadata": {},
          "execution_count": 4
        }
      ]
    },
    {
      "cell_type": "code",
      "source": [
        "# Convert 1 to boolean\n",
        "\n",
        "bool(1)"
      ],
      "metadata": {
        "colab": {
          "base_uri": "https://localhost:8080/"
        },
        "id": "Wmib8A390aQp",
        "outputId": "dbb1121a-bf13-4b9b-8ab6-f52f6c6d548f"
      },
      "execution_count": null,
      "outputs": [
        {
          "output_type": "execute_result",
          "data": {
            "text/plain": [
              "True"
            ]
          },
          "metadata": {},
          "execution_count": 5
        }
      ]
    },
    {
      "cell_type": "code",
      "source": [
        "# Convert 0 to boolean\n",
        "\n",
        "bool(0)"
      ],
      "metadata": {
        "colab": {
          "base_uri": "https://localhost:8080/"
        },
        "id": "AnzWRL2C0est",
        "outputId": "642001fd-81af-4bb2-9815-3a72808be7cb"
      },
      "execution_count": null,
      "outputs": [
        {
          "output_type": "execute_result",
          "data": {
            "text/plain": [
              "False"
            ]
          },
          "metadata": {},
          "execution_count": 6
        }
      ]
    },
    {
      "cell_type": "code",
      "source": [
        "# Convert True to float\n",
        "\n",
        "float(True)"
      ],
      "metadata": {
        "colab": {
          "base_uri": "https://localhost:8080/"
        },
        "id": "htFx-Qgv0k7f",
        "outputId": "718b37ba-1e72-47b3-9cf3-8263d65b80f1"
      },
      "execution_count": null,
      "outputs": [
        {
          "output_type": "execute_result",
          "data": {
            "text/plain": [
              "1.0"
            ]
          },
          "metadata": {},
          "execution_count": 7
        }
      ]
    },
    {
      "cell_type": "code",
      "source": [
        "# Write your code below, Don't forget to press Shift+enter to execute the cell\n",
        "160/60"
      ],
      "metadata": {
        "colab": {
          "base_uri": "https://localhost:8080/"
        },
        "id": "REhuYndw0tMA",
        "outputId": "7bc5a066-c2d3-44fc-f337-47f5060eb2c6"
      },
      "execution_count": null,
      "outputs": [
        {
          "output_type": "execute_result",
          "data": {
            "text/plain": [
              "2.6666666666666665"
            ]
          },
          "metadata": {},
          "execution_count": 8
        }
      ]
    },
    {
      "cell_type": "code",
      "source": [
        "# Matematical expression\n",
        "\n",
        "30 + 2 * 60 // 10"
      ],
      "metadata": {
        "colab": {
          "base_uri": "https://localhost:8080/"
        },
        "id": "eQ0Befyo1J4T",
        "outputId": "5bf50921-3806-4377-e368-84d48f7a17a6"
      },
      "execution_count": null,
      "outputs": [
        {
          "output_type": "execute_result",
          "data": {
            "text/plain": [
              "42"
            ]
          },
          "metadata": {},
          "execution_count": 9
        }
      ]
    },
    {
      "cell_type": "code",
      "source": [
        "# Matematical expresion\n",
        "\n",
        "(30 + 2) * 60"
      ],
      "metadata": {
        "colab": {
          "base_uri": "https://localhost:8080/"
        },
        "id": "oJMeTm6t2CiJ",
        "outputId": "d1840c73-2fed-4723-980e-29dba35b6d08"
      },
      "execution_count": null,
      "outputs": [
        {
          "output_type": "execute_result",
          "data": {
            "text/plain": [
              "1920"
            ]
          },
          "metadata": {},
          "execution_count": 10
        }
      ]
    },
    {
      "cell_type": "code",
      "source": [
        "# Store value into variable\n",
        "\n",
        "x = 43 + 60 + 16 + 41\n",
        "x"
      ],
      "metadata": {
        "colab": {
          "base_uri": "https://localhost:8080/"
        },
        "id": "kp1KKutu2LQK",
        "outputId": "e0c9e8a2-4aeb-41a4-f22a-b61016b2ac96"
      },
      "execution_count": null,
      "outputs": [
        {
          "output_type": "execute_result",
          "data": {
            "text/plain": [
              "160"
            ]
          },
          "metadata": {},
          "execution_count": 11
        }
      ]
    },
    {
      "cell_type": "code",
      "source": [
        "# Print out the value in variable\n",
        "\n",
        "x = 43 + 60 + 16 + 41\n",
        "x"
      ],
      "metadata": {
        "colab": {
          "base_uri": "https://localhost:8080/"
        },
        "id": "3r_EA22r3XKn",
        "outputId": "26e2bc00-954e-4d17-f72d-0dfa3076493f"
      },
      "execution_count": null,
      "outputs": [
        {
          "output_type": "execute_result",
          "data": {
            "text/plain": [
              "160"
            ]
          },
          "metadata": {},
          "execution_count": 12
        }
      ]
    },
    {
      "cell_type": "code",
      "source": [
        "# Use another variable to store the result of the operation between variable and value\n",
        "\n",
        "y = x / 60\n",
        "y"
      ],
      "metadata": {
        "colab": {
          "base_uri": "https://localhost:8080/"
        },
        "id": "Zp9XFsfy3ibk",
        "outputId": "32694bce-bf24-4480-a655-0cff176abe9a"
      },
      "execution_count": null,
      "outputs": [
        {
          "output_type": "execute_result",
          "data": {
            "text/plain": [
              "2.6666666666666665"
            ]
          },
          "metadata": {},
          "execution_count": 13
        }
      ]
    },
    {
      "cell_type": "code",
      "source": [
        "# Overwrite variable whit new value\n",
        "\n",
        "x = x / 60\n",
        "print(x)"
      ],
      "metadata": {
        "colab": {
          "base_uri": "https://localhost:8080/"
        },
        "id": "zXTA8cLT3tp4",
        "outputId": "e89bc886-480f-4a97-ef50-35081ce9148c"
      },
      "execution_count": null,
      "outputs": [
        {
          "output_type": "stream",
          "name": "stdout",
          "text": [
            "2.6666666666666665\n"
          ]
        }
      ]
    },
    {
      "cell_type": "code",
      "source": [
        "x"
      ],
      "metadata": {
        "colab": {
          "base_uri": "https://localhost:8080/"
        },
        "id": "lh4hyh5_33v6",
        "outputId": "f8c51b24-a35a-4260-9d3c-f14c151bd1d6"
      },
      "execution_count": null,
      "outputs": [
        {
          "output_type": "execute_result",
          "data": {
            "text/plain": [
              "2.6666666666666665"
            ]
          },
          "metadata": {},
          "execution_count": 15
        }
      ]
    },
    {
      "cell_type": "code",
      "source": [
        "# Name the variables meaningfully\n",
        "\n",
        "total_min = 43 + 42 + 57 # Total leght of albums in minutes\n",
        "total_min"
      ],
      "metadata": {
        "colab": {
          "base_uri": "https://localhost:8080/"
        },
        "id": "G49Qz4xd36dR",
        "outputId": "9cd8c27f-af7f-462d-b9e1-f7182da32e41"
      },
      "execution_count": null,
      "outputs": [
        {
          "output_type": "execute_result",
          "data": {
            "text/plain": [
              "142"
            ]
          },
          "metadata": {},
          "execution_count": 17
        }
      ]
    },
    {
      "cell_type": "code",
      "source": [
        "float(total_min)"
      ],
      "metadata": {
        "colab": {
          "base_uri": "https://localhost:8080/"
        },
        "id": "DwEUZsmD4Ix1",
        "outputId": "600c884f-41c9-4b41-934f-f43fda7bc09b"
      },
      "execution_count": null,
      "outputs": [
        {
          "output_type": "execute_result",
          "data": {
            "text/plain": [
              "142.0"
            ]
          },
          "metadata": {},
          "execution_count": 18
        }
      ]
    },
    {
      "cell_type": "code",
      "source": [
        "a=2\n",
        "a"
      ],
      "metadata": {
        "colab": {
          "base_uri": "https://localhost:8080/"
        },
        "id": "S6Yc0B024OQf",
        "outputId": "2e8b4cdb-8466-437d-e2f6-18528ae5c12a"
      },
      "execution_count": null,
      "outputs": [
        {
          "output_type": "execute_result",
          "data": {
            "text/plain": [
              "2"
            ]
          },
          "metadata": {},
          "execution_count": 19
        }
      ]
    },
    {
      "cell_type": "code",
      "source": [
        "print(float(a))"
      ],
      "metadata": {
        "colab": {
          "base_uri": "https://localhost:8080/"
        },
        "id": "_GsfWjrz4QQW",
        "outputId": "83286530-ca05-4625-a24a-808209a009ca"
      },
      "execution_count": null,
      "outputs": [
        {
          "output_type": "stream",
          "name": "stdout",
          "text": [
            "2.0\n"
          ]
        }
      ]
    },
    {
      "cell_type": "code",
      "source": [
        "# Name the variables meaningfully\n",
        "\n",
        "total_hours = total_min / 60 # Toatal leght of albums in hours\n",
        "total_hours"
      ],
      "metadata": {
        "colab": {
          "base_uri": "https://localhost:8080/"
        },
        "id": "3gLyWA7x4Szu",
        "outputId": "72fe5742-e639-4cc5-a27e-fa5d38d0bf03"
      },
      "execution_count": null,
      "outputs": [
        {
          "output_type": "execute_result",
          "data": {
            "text/plain": [
              "2.3666666666666667"
            ]
          },
          "metadata": {},
          "execution_count": 21
        }
      ]
    },
    {
      "cell_type": "code",
      "source": [
        "# Complicate Expression\n",
        "\n",
        "total_hours = (43 + 42 + 57) / 60 # Total hours in a single ecpression\n",
        "total_hours"
      ],
      "metadata": {
        "colab": {
          "base_uri": "https://localhost:8080/"
        },
        "id": "TwUdXE-J4zP-",
        "outputId": "397ca2da-6f62-43fa-dad2-2f8b6dc2de50"
      },
      "execution_count": null,
      "outputs": [
        {
          "output_type": "execute_result",
          "data": {
            "text/plain": [
              "2.3666666666666667"
            ]
          },
          "metadata": {},
          "execution_count": 22
        }
      ]
    },
    {
      "cell_type": "code",
      "source": [
        "# Write your code below, Don't forget to press to execute the cell\n",
        "x = 3 + 2 * 2\n",
        "x"
      ],
      "metadata": {
        "colab": {
          "base_uri": "https://localhost:8080/"
        },
        "id": "HI6Kb29o5EWa",
        "outputId": "e2dd534b-7815-4e0d-d0a3-887471ab9d76"
      },
      "execution_count": null,
      "outputs": [
        {
          "output_type": "execute_result",
          "data": {
            "text/plain": [
              "7"
            ]
          },
          "metadata": {},
          "execution_count": 23
        }
      ]
    },
    {
      "cell_type": "code",
      "source": [
        "# Write your code below, Don't forget to press to execute the cell\n",
        "y = (3 + 2) * 2\n",
        "y"
      ],
      "metadata": {
        "colab": {
          "base_uri": "https://localhost:8080/"
        },
        "id": "sqLymC0Q5ST9",
        "outputId": "4d9f5903-8646-4e28-e7b8-743944a450fd"
      },
      "execution_count": null,
      "outputs": [
        {
          "output_type": "execute_result",
          "data": {
            "text/plain": [
              "10"
            ]
          },
          "metadata": {},
          "execution_count": 24
        }
      ]
    },
    {
      "cell_type": "code",
      "source": [
        "# Write your code below, Don't forget to press to execute the cell\n",
        "z = x + y\n",
        "z"
      ],
      "metadata": {
        "colab": {
          "base_uri": "https://localhost:8080/"
        },
        "id": "pOJ3wOGB5bPC",
        "outputId": "6397abdc-1797-49a0-e686-803c975c07f4"
      },
      "execution_count": null,
      "outputs": [
        {
          "output_type": "execute_result",
          "data": {
            "text/plain": [
              "17"
            ]
          },
          "metadata": {},
          "execution_count": 26
        }
      ]
    },
    {
      "cell_type": "code",
      "source": [
        "panjang = 20.5\n",
        "lebar = 25\n",
        "tinggi = 10\n",
        "\n",
        "keliling = 2*(panjang+lebar)\n",
        "luas = panjang*lebar\n",
        "volume = panjang*lebar*tinggi\n",
        "\n",
        "print(\"Panjang = \" , panjang)\n",
        "print(\"Lebar = \" , lebar)\n",
        "print(\"Tinggi = \" , tinggi )\n",
        "print(\"Keliling = \" , keliling)\n",
        "print(\"Volume = \" , volume)\n",
        "\n"
      ],
      "metadata": {
        "colab": {
          "base_uri": "https://localhost:8080/"
        },
        "id": "jpE39-xf5ftg",
        "outputId": "4b1dc55e-fe47-4863-a83e-f40b3d6f4bb1"
      },
      "execution_count": null,
      "outputs": [
        {
          "output_type": "stream",
          "name": "stdout",
          "text": [
            "Panjang =  20.5\n",
            "Lebar =  25\n",
            "Tinggi =  10\n",
            "Keliling =  91.0\n",
            "Volume =  5125.0\n"
          ]
        }
      ]
    },
    {
      "cell_type": "code",
      "source": [
        "Mean_nilai_Shafira = ((85 + 75) / 2)\n",
        "print(Mean_nilai_Shafira)"
      ],
      "metadata": {
        "colab": {
          "base_uri": "https://localhost:8080/"
        },
        "id": "AAIn97Gs6MAV",
        "outputId": "c227ad81-ac43-4675-e244-feead6585580"
      },
      "execution_count": null,
      "outputs": [
        {
          "output_type": "stream",
          "name": "stdout",
          "text": [
            "80.0\n"
          ]
        }
      ]
    },
    {
      "cell_type": "code",
      "source": [
        "Jumlah_nilai_Hanif_dan_Andi = (75 + 90 + 70 + 75)\n",
        "print(Jumlah_nilai_Hanif_dan_Andi)"
      ],
      "metadata": {
        "colab": {
          "base_uri": "https://localhost:8080/"
        },
        "id": "ChKzRJiRIIxq",
        "outputId": "0194e3e9-1329-4386-fb6c-b7250b875c3c"
      },
      "execution_count": null,
      "outputs": [
        {
          "output_type": "stream",
          "name": "stdout",
          "text": [
            "310\n"
          ]
        }
      ]
    },
    {
      "cell_type": "code",
      "source": [
        "mean_kalkulus1_Widya_Dhanar_Hikma_Nedia = ((85 + 85 + 80 + 95) / 4)\n",
        "mean_metodestatistika_Widya_dhanar_Hikma_Nedia = ((85 + 85 + 80 + 80))\n",
        "\n",
        "print(\"Rata rata nilai kalkulus = \" , mean_kalkulus1_Widya_Dhanar_Hikma_Nedia)\n",
        "print(\"Rata rata nilai metode statistika = \" , mean_metodestatistika_Widya_dhanar_Hikma_Nedia)"
      ],
      "metadata": {
        "colab": {
          "base_uri": "https://localhost:8080/"
        },
        "id": "ub0X6BoKIs54",
        "outputId": "d0ac8b60-f51f-49b1-cb28-9672097a84ab"
      },
      "execution_count": null,
      "outputs": [
        {
          "output_type": "stream",
          "name": "stdout",
          "text": [
            "Rata rata nilai kalkulus =  86.25\n",
            "Rata rata nilai metode statistika =  330\n"
          ]
        }
      ]
    },
    {
      "cell_type": "code",
      "source": [
        "mean_kalkulus1_mhs = ((85 + 80 + 75 + 95 + 85 + 75 + 70 + 85 + 80) / 9)\n",
        "print(\"Rata rata nilai Kalkulus = \" , mean_kalkulus1_mhs)"
      ],
      "metadata": {
        "colab": {
          "base_uri": "https://localhost:8080/"
        },
        "id": "tCUKO2iKJ8Ww",
        "outputId": "45027838-89d2-4b5d-decb-3bb4f55ff361"
      },
      "execution_count": null,
      "outputs": [
        {
          "output_type": "stream",
          "name": "stdout",
          "text": [
            "Rata rata nilai Kalkulus =  81.11111111111111\n"
          ]
        }
      ]
    },
    {
      "cell_type": "code",
      "source": [
        "gaji_per_jam = 30000\n",
        "hari_kerja = 27\n",
        "jam_kerja_per_hari = 8\n",
        "total_jam_kerja = jam_kerja_per_hari * hari_kerja\n",
        "gaji_awal = total_jam_kerja * gaji_per_jam\n",
        "hari_tidak_masuk = 3\n",
        "jam_kerja_hilang = hari_tidak_masuk * jam_kerja_per_hari\n",
        "gaji_setelah_potongan = gaji_awal - (jam_kerja_hilang * gaji_per_jam)\n",
        "tunjangan = 0.10 * gaji_setelah_potongan\n",
        "lembur_jam = 5\n",
        "upah_lembur_per_jam = 10000\n",
        "gaji_lembur = lembur_jam * upah_lembur_per_jam\n",
        "gaji_total = gaji_setelah_potongan + tunjangan + gaji_lembur\n",
        "print (\"gaji setelah potongan: Rp\", gaji_setelah_potongan)\n",
        "print (\"tunjangan: RP\", tunjangan)\n",
        "print ( \"gaji total setelah tunjangan dan lembur: Rp\", gaji_total)"
      ],
      "metadata": {
        "id": "I5-0nov9Kj1T",
        "colab": {
          "base_uri": "https://localhost:8080/"
        },
        "outputId": "07820998-56d0-4652-cdc5-29fa81b3a5cf"
      },
      "execution_count": 47,
      "outputs": [
        {
          "output_type": "stream",
          "name": "stdout",
          "text": [
            "gaji setelah potongan: Rp 5760000\n",
            "tunjangan: RP 576000.0\n",
            "gaji total setelah tunjangan dan lembur: Rp 6386000.0\n"
          ]
        }
      ]
    },
    {
      "cell_type": "code",
      "source": [],
      "metadata": {
        "id": "fCjIzg4eVkBQ"
      },
      "execution_count": null,
      "outputs": []
    }
  ]
}