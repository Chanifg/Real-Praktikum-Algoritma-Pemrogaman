{
  "nbformat": 4,
  "nbformat_minor": 0,
  "metadata": {
    "colab": {
      "provenance": []
    },
    "kernelspec": {
      "name": "python3",
      "display_name": "Python 3"
    },
    "language_info": {
      "name": "python"
    }
  },
  "cells": [
    {
      "cell_type": "markdown",
      "source": [
        "**Cerating and Calling a Fungtion**"
      ],
      "metadata": {
        "id": "0kjQwrSToXiz"
      }
    },
    {
      "cell_type": "code",
      "execution_count": null,
      "metadata": {
        "colab": {
          "base_uri": "https://localhost:8080/"
        },
        "id": "a2kXVqGloKiA",
        "outputId": "2e29b5e8-e6ff-494e-fd35-6be2bbf17611"
      },
      "outputs": [
        {
          "output_type": "stream",
          "name": "stdout",
          "text": [
            "Hello from a function\n"
          ]
        }
      ],
      "source": [
        "def my_function():\n",
        "  print(\"Hello from a function\")\n",
        "my_function()"
      ]
    },
    {
      "cell_type": "code",
      "source": [
        "def my_function(fname):\n",
        "  print(fname + \" Sitohang\")\n",
        "\n",
        "my_function(\"Toha\")\n",
        "my_function(\"Tohir\")\n",
        "my_function(\"Tobi\")"
      ],
      "metadata": {
        "colab": {
          "base_uri": "https://localhost:8080/"
        },
        "id": "xVoVEhzvop7l",
        "outputId": "4aab6e37-9a3a-4189-ea3c-bb9ba74c12e1"
      },
      "execution_count": null,
      "outputs": [
        {
          "output_type": "stream",
          "name": "stdout",
          "text": [
            "Toha Sitohang\n",
            "Tohir Sitohang\n",
            "Tobi Sitohang\n"
          ]
        }
      ]
    },
    {
      "cell_type": "code",
      "source": [
        "#this function expects 2 arguments, and gets 2 arguments:\n",
        "def my_function(fname, lname):\n",
        "  print(fname + \" \" + lname)\n",
        "\n",
        "my_function(\"toha\", \"sitohang\")"
      ],
      "metadata": {
        "colab": {
          "base_uri": "https://localhost:8080/"
        },
        "id": "FJdUrZicpYiN",
        "outputId": "4e455a26-b8c2-4bb5-8eb1-ebb90abd062d"
      },
      "execution_count": null,
      "outputs": [
        {
          "output_type": "stream",
          "name": "stdout",
          "text": [
            "toha sitohang\n"
          ]
        }
      ]
    },
    {
      "cell_type": "code",
      "source": [
        "#this function expect 2 arguments, but gets only 1:\n",
        "def my_function(fname, lname):\n",
        "  print(fname + \" \" + lname)\n",
        "\n",
        "my_function(\"surip\")"
      ],
      "metadata": {
        "colab": {
          "base_uri": "https://localhost:8080/",
          "height": 176
        },
        "id": "G-AzHIVZqD3-",
        "outputId": "41e90011-224c-4119-d199-b59ac27a04b2"
      },
      "execution_count": null,
      "outputs": [
        {
          "output_type": "error",
          "ename": "TypeError",
          "evalue": "my_function() missing 1 required positional argument: 'lname'",
          "traceback": [
            "\u001b[0;31m---------------------------------------------------------------------------\u001b[0m",
            "\u001b[0;31mTypeError\u001b[0m                                 Traceback (most recent call last)",
            "\u001b[0;32m<ipython-input-9-15474c970155>\u001b[0m in \u001b[0;36m<cell line: 5>\u001b[0;34m()\u001b[0m\n\u001b[1;32m      3\u001b[0m   \u001b[0mprint\u001b[0m\u001b[0;34m(\u001b[0m\u001b[0mfname\u001b[0m \u001b[0;34m+\u001b[0m \u001b[0;34m\" \"\u001b[0m \u001b[0;34m+\u001b[0m \u001b[0mlname\u001b[0m\u001b[0;34m)\u001b[0m\u001b[0;34m\u001b[0m\u001b[0;34m\u001b[0m\u001b[0m\n\u001b[1;32m      4\u001b[0m \u001b[0;34m\u001b[0m\u001b[0m\n\u001b[0;32m----> 5\u001b[0;31m \u001b[0mmy_function\u001b[0m\u001b[0;34m(\u001b[0m\u001b[0;34m\"surip\"\u001b[0m\u001b[0;34m)\u001b[0m\u001b[0;34m\u001b[0m\u001b[0;34m\u001b[0m\u001b[0m\n\u001b[0m",
            "\u001b[0;31mTypeError\u001b[0m: my_function() missing 1 required positional argument: 'lname'"
          ]
        }
      ]
    },
    {
      "cell_type": "markdown",
      "source": [
        "**Arbitary Arguments, *args**"
      ],
      "metadata": {
        "id": "IBmSAjHnqwlE"
      }
    },
    {
      "cell_type": "code",
      "source": [
        "# if the number of arguments is unknown, add a * before the parameter name:\n",
        "\n",
        "def my_function(*kids):\n",
        "  print(\"The youngest child is \" + kids[2])\n",
        "\n",
        "my_function(\"Lengkung\", \"Jimin\", \"Tukimin\")"
      ],
      "metadata": {
        "colab": {
          "base_uri": "https://localhost:8080/"
        },
        "id": "uC02hTiXqlTd",
        "outputId": "3cc69023-9c04-492c-e951-38143afc0cd0"
      },
      "execution_count": null,
      "outputs": [
        {
          "output_type": "stream",
          "name": "stdout",
          "text": [
            "The youngest child is Tukimin\n"
          ]
        }
      ]
    },
    {
      "cell_type": "markdown",
      "source": [
        "**Keyword Arguments**"
      ],
      "metadata": {
        "id": "VxxPSAemtm2F"
      }
    },
    {
      "cell_type": "code",
      "source": [
        "def my_function(child3, child2, child1):\n",
        "  print(\"The youngest child is \" + child3)\n",
        "\n",
        "my_function(child1 = \"Lekyung\", child2 = \"Tukimin\", child3 = \"Jimin\")"
      ],
      "metadata": {
        "colab": {
          "base_uri": "https://localhost:8080/"
        },
        "id": "anH2Sr8Cr4j-",
        "outputId": "555adba6-e08e-4ea8-b353-871f59ca6345"
      },
      "execution_count": null,
      "outputs": [
        {
          "output_type": "stream",
          "name": "stdout",
          "text": [
            "The youngest child is Jimin\n"
          ]
        }
      ]
    },
    {
      "cell_type": "markdown",
      "source": [
        "**Arbitary Keyword Arguments, **kwargs**"
      ],
      "metadata": {
        "id": "EXnlNeB5usut"
      }
    },
    {
      "cell_type": "code",
      "source": [
        "#If the number of keyword arguments is unknown, add a double ** before the parameter name:\n",
        "def my_function(**kid):\n",
        "  print(\"His last name is \" + kid[\"lname\"])\n",
        "\n",
        "my_function(fname = \"Thanos\", lname = \"Ireng Man\")"
      ],
      "metadata": {
        "colab": {
          "base_uri": "https://localhost:8080/"
        },
        "id": "h0VTbDLsuF-v",
        "outputId": "e7d64c5e-0579-40fb-daf0-93221f6c4e1b"
      },
      "execution_count": null,
      "outputs": [
        {
          "output_type": "stream",
          "name": "stdout",
          "text": [
            "His last name is Ireng Man\n"
          ]
        }
      ]
    },
    {
      "cell_type": "markdown",
      "source": [
        "**Default Parameter Value**"
      ],
      "metadata": {
        "id": "p7ZWNWzkx9R2"
      }
    },
    {
      "cell_type": "code",
      "source": [
        "def my_function(negara = \"Indonesia\"):\n",
        "  print(\"Saya dari \" + negara)\n",
        "\n",
        "my_function(\"UEA\")\n",
        "my_function(\"Arab Saudi\")\n",
        "my_function()\n",
        "my_function(\"Malaysia\")"
      ],
      "metadata": {
        "colab": {
          "base_uri": "https://localhost:8080/"
        },
        "id": "ME6INtl2wG_W",
        "outputId": "3878c7ee-a9cb-4954-a7ff-b77b6c4a54fb"
      },
      "execution_count": null,
      "outputs": [
        {
          "output_type": "stream",
          "name": "stdout",
          "text": [
            "Saya dari UEA\n",
            "Saya dari Arab Saudi\n",
            "Saya dari Indonesia\n",
            "Saya dari Malaysia\n"
          ]
        }
      ]
    },
    {
      "cell_type": "markdown",
      "source": [
        "**Passing a List as an Argument**"
      ],
      "metadata": {
        "id": "4jxKd0VqzBAe"
      }
    },
    {
      "cell_type": "code",
      "source": [
        "def my_function(food):\n",
        "  for x in food:\n",
        "    print(x)\n",
        "\n",
        "fruits = [\"apple\", \"banana\", \"cherry\"]\n",
        "\n",
        "my_function(fruits)"
      ],
      "metadata": {
        "colab": {
          "base_uri": "https://localhost:8080/"
        },
        "id": "iRk3RfAJyjAv",
        "outputId": "cacd0189-d906-4e29-960e-e20003f8b7b1"
      },
      "execution_count": null,
      "outputs": [
        {
          "output_type": "stream",
          "name": "stdout",
          "text": [
            "apple\n",
            "banana\n",
            "cherry\n"
          ]
        }
      ]
    },
    {
      "cell_type": "code",
      "source": [
        "def my_function(x):\n",
        "  return 5 * x\n",
        "\n",
        "print(my_function(3))\n",
        "print(my_function(5))\n",
        "print(my_function(9))"
      ],
      "metadata": {
        "colab": {
          "base_uri": "https://localhost:8080/"
        },
        "id": "WIUHkIx90CtP",
        "outputId": "25566beb-73c4-4b0c-ae1f-0e4d0b609a88"
      },
      "execution_count": null,
      "outputs": [
        {
          "output_type": "stream",
          "name": "stdout",
          "text": [
            "15\n",
            "25\n",
            "45\n"
          ]
        }
      ]
    },
    {
      "cell_type": "markdown",
      "source": [
        "**The pass Statement**"
      ],
      "metadata": {
        "id": "k-KTSB2iSXEO"
      }
    },
    {
      "cell_type": "code",
      "source": [
        "def myfunction():\n",
        "  pass"
      ],
      "metadata": {
        "id": "FmsPSVUG04qQ"
      },
      "execution_count": 1,
      "outputs": []
    },
    {
      "cell_type": "code",
      "source": [
        "#Recursion Example:\n",
        "def tri_recursion(k):\n",
        "  if(k > 0):\n",
        "    result = k + tri_recursion(k -1)\n",
        "    print(result)\n",
        "  else:\n",
        "    result = 0\n",
        "  return result\n",
        "\n",
        "print(\"\\n\\nRecursion Example Result\")\n",
        "tri_recursion(6)"
      ],
      "metadata": {
        "colab": {
          "base_uri": "https://localhost:8080/"
        },
        "id": "QIa8pS-rSed4",
        "outputId": "ff2a423d-e7af-43ed-d93b-5d9f90989443"
      },
      "execution_count": 2,
      "outputs": [
        {
          "output_type": "stream",
          "name": "stdout",
          "text": [
            "\n",
            "\n",
            "Recursion Example Result\n",
            "1\n",
            "3\n",
            "6\n",
            "10\n",
            "15\n",
            "21\n"
          ]
        },
        {
          "output_type": "execute_result",
          "data": {
            "text/plain": [
              "21"
            ]
          },
          "metadata": {},
          "execution_count": 2
        }
      ]
    },
    {
      "cell_type": "code",
      "source": [
        "def faktorial(n):\n",
        "  if n == 0:\n",
        "    return 1\n",
        "  else:\n",
        "    return n * faktorial(n-1)\n",
        "\n",
        "while True:\n",
        "  n = int(input(\"Masukkan angka: \"))\n",
        "  if n < 0:\n",
        "    print(\"input salah, Faktorial tidak berlaku untuk bilangan negatif\")\n",
        "  else:\n",
        "    break\n",
        "\n",
        "\n",
        "print(f\"Nilai faktorial dari\", n, \"adalah \", faktorial(n))"
      ],
      "metadata": {
        "colab": {
          "base_uri": "https://localhost:8080/"
        },
        "id": "W7lDid52TO_n",
        "outputId": "febc90b7-afeb-4ed5-c2bc-dfeeb870d764"
      },
      "execution_count": 15,
      "outputs": [
        {
          "output_type": "stream",
          "name": "stdout",
          "text": [
            "Masukkan angka: -9\n",
            "input salah, Faktorial tidak berlaku untuk bilangan negatif\n",
            "Masukkan angka: 3\n",
            "Nilai faktorial dari 3 adalah  6\n"
          ]
        }
      ]
    },
    {
      "cell_type": "code",
      "source": [
        "import math\n",
        "\n",
        "def luas_lingkaran():\n",
        "  r = int(input(\"Masukan jari-jari lingkaran: \"))\n",
        "  luas = math.pi * r * r\n",
        "  print(f\"Luas lingkaran dengan jari-jari {r} adalah {luas}\")\n",
        "\n",
        "def luas_persegi():\n",
        "  s = int(input(\"Masukan sisi persegi: \"))\n",
        "  luas = s * s\n",
        "  print(f\"Luas persegi dengan sisi {s} adalah {luas}\")\n",
        "\n",
        "def luas_segitiga():\n",
        "  alas = int(input(\"Masukan alas segitiga: \"))\n",
        "  tinggi = int(input(\"Masukan tinggi segitiga: \"))\n",
        "  luas = 0.5 * alas * tinggi\n",
        "  print(f\"Luas segitiga dengan alas {alas} dan tinggi {tinggi} adalah {luas}\")\n",
        "\n",
        "def kalkulator_luas():\n",
        "  while True:\n",
        "    print()\n",
        "    print(\"Program Kalkulator Luas\")\n",
        "    print(\"=======================\")\n",
        "    print(\"Anda ingin menghitung luas bangun datar apa?\")\n",
        "    print(\"1. Lingkaran\")\n",
        "    print(\"2. Persegi\")\n",
        "    print(\"3. Segitiga\")\n",
        "    print(\"4. Selesai\")\n",
        "\n",
        "    pilihan = input(\"Masukkan pilihan anda (1-4)!:\")\n",
        "\n",
        "    if pilihan == \"1\":\n",
        "      luas_lingkaran()\n",
        "    elif pilihan == \"2\":\n",
        "      luas_persegi()\n",
        "    elif pilihan == \"3\":\n",
        "      luas_segitiga()\n",
        "    elif pilihan == \"4\":\n",
        "      print(\"Program selesai. Terima kasih!\")\n",
        "      break\n",
        "    else:\n",
        "      print(\"Pilihan tidak valid. Silahkan coba lagi.\")\n",
        "\n",
        "kalkulator_luas()"
      ],
      "metadata": {
        "colab": {
          "base_uri": "https://localhost:8080/"
        },
        "id": "y4xhEil4VMZ6",
        "outputId": "61f5a5e0-bd4f-4328-a8d2-a7014b25a506"
      },
      "execution_count": 31,
      "outputs": [
        {
          "output_type": "stream",
          "name": "stdout",
          "text": [
            "\n",
            "Program Kalkulator Luas\n",
            "=======================\n",
            "Anda ingin menghitung luas bangun datar apa?\n",
            "1. Lingkaran\n",
            "2. Persegi\n",
            "3. Segitiga\n",
            "4. Selesai\n",
            "Masukkan pilihan anda (1-4)!:3\n",
            "Masukan alas segitiga: 2\n",
            "Masukan tinggi segitiga: 1\n",
            "Luas segitiga dengan alas 2 dan tinggi 1 adalah 1.0\n",
            "\n",
            "Program Kalkulator Luas\n",
            "=======================\n",
            "Anda ingin menghitung luas bangun datar apa?\n",
            "1. Lingkaran\n",
            "2. Persegi\n",
            "3. Segitiga\n",
            "4. Selesai\n",
            "Masukkan pilihan anda (1-4)!:4\n",
            "Program selesai. Terima kasih!\n"
          ]
        }
      ]
    },
    {
      "cell_type": "code",
      "source": [],
      "metadata": {
        "id": "JxPah7uqgSBW"
      },
      "execution_count": null,
      "outputs": []
    }
  ]
}