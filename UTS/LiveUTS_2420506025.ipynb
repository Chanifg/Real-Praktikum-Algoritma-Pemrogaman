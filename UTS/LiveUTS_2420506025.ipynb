{
  "nbformat": 4,
  "nbformat_minor": 0,
  "metadata": {
    "colab": {
      "provenance": []
    },
    "kernelspec": {
      "name": "python3",
      "display_name": "Python 3"
    },
    "language_info": {
      "name": "python"
    }
  },
  "cells": [
    {
      "cell_type": "markdown",
      "source": [
        "**UTS 1**"
      ],
      "metadata": {
        "id": "ZfSUND_FPylF"
      }
    },
    {
      "cell_type": "code",
      "execution_count": null,
      "metadata": {
        "colab": {
          "base_uri": "https://localhost:8080/"
        },
        "id": "K-FxYPf8XXFR",
        "outputId": "3e3f3489-501d-47cb-c324-2c1b787e28e8"
      },
      "outputs": [
        {
          "output_type": "stream",
          "name": "stdout",
          "text": [
            "Masukkan NPM: 2420506025\n",
            "Jumlah bilangan ganjil adalah:  2\n",
            "Jumlah bilangan genap adalah:  8\n"
          ]
        }
      ],
      "source": [
        "angka = (input(\"Masukkan NPM: \"))\n",
        "ganjil = 0\n",
        "genap = 0\n",
        "\n",
        "for digit in (angka):\n",
        "  if int(digit) % 2 == 0:\n",
        "    genap += 1\n",
        "  else:\n",
        "    ganjil += 1\n",
        "print(\"Jumlah bilangan ganjil adalah: \", ganjil)\n",
        "print(\"Jumlah bilangan genap adalah: \", genap)\n"
      ]
    },
    {
      "cell_type": "markdown",
      "source": [
        "**UTS 2**"
      ],
      "metadata": {
        "id": "44B2u0TYP8td"
      }
    },
    {
      "cell_type": "code",
      "source": [
        "n = int(input('Masukan Jumlah Baris yang diinginkan: '))\n",
        "\n",
        "for i in range(1, n + 1):\n",
        "  for j in range(1, i + 1):\n",
        "    print(i * j, end=' ')\n",
        "  print()"
      ],
      "metadata": {
        "colab": {
          "base_uri": "https://localhost:8080/"
        },
        "id": "NxGNzJ1_fOwf",
        "outputId": "ad3c6976-f1ae-48b9-83bc-20dab3853cb0"
      },
      "execution_count": null,
      "outputs": [
        {
          "output_type": "stream",
          "name": "stdout",
          "text": [
            "Masukan Jumlah Baris yang diinginkan: 10\n",
            "1 \n",
            "2 4 \n",
            "3 6 9 \n",
            "4 8 12 16 \n",
            "5 10 15 20 25 \n",
            "6 12 18 24 30 36 \n",
            "7 14 21 28 35 42 49 \n",
            "8 16 24 32 40 48 56 64 \n",
            "9 18 27 36 45 54 63 72 81 \n",
            "10 20 30 40 50 60 70 80 90 100 \n"
          ]
        }
      ]
    },
    {
      "cell_type": "code",
      "source": [],
      "metadata": {
        "id": "MGYsGvTVgk-H"
      },
      "execution_count": null,
      "outputs": []
    }
  ]
}