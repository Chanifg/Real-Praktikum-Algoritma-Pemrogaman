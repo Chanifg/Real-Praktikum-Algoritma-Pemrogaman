{
  "nbformat": 4,
  "nbformat_minor": 0,
  "metadata": {
    "colab": {
      "provenance": []
    },
    "kernelspec": {
      "name": "python3",
      "display_name": "Python 3"
    },
    "language_info": {
      "name": "python"
    }
  },
  "cells": [
    {
      "cell_type": "code",
      "source": [
        "num = 5\n",
        "\n",
        "if num > 0:\n",
        "    print(\"The number is positive.\")\n",
        "else:\n",
        "    if num < 0:\n",
        "        print(\"The number is negative.\")\n",
        "    else:\n",
        "        print(\"The number is zero.\")"
      ],
      "metadata": {
        "colab": {
          "base_uri": "https://localhost:8080/"
        },
        "id": "HllRMAm4rRly",
        "outputId": "5ca6ec85-c78c-4b37-cf78-8dbc32d55955"
      },
      "execution_count": null,
      "outputs": [
        {
          "output_type": "stream",
          "name": "stdout",
          "text": [
            "The number is positive.\n"
          ]
        }
      ]
    },
    {
      "cell_type": "code",
      "source": [
        "# Example 2 : Age classifier\n",
        "age = 35\n",
        "\n",
        "if age >= 60:\n",
        "    print(\"You are a senior citizen.\")\n",
        "else:\n",
        "    if age >= 18:\n",
        "        print(\"You are an adult.\")\n",
        "    else:\n",
        "        print(\"You are a teenager.\")"
      ],
      "metadata": {
        "colab": {
          "base_uri": "https://localhost:8080/"
        },
        "id": "H-Eja2vtrRdq",
        "outputId": "7429e877-e171-4731-a1a1-954317b965a5"
      },
      "execution_count": null,
      "outputs": [
        {
          "output_type": "stream",
          "name": "stdout",
          "text": [
            "You are an adult.\n"
          ]
        }
      ]
    },
    {
      "cell_type": "markdown",
      "source": [
        "# <h3 id=\"WeeklyExercise1\">Weekly Exercise 1</h3>\n",
        "\n",
        "Silahkan buat kode program untuk menunjukkan apakah angka yang diinputkan oleh user merupakan tahun kabisat atau tidak dengan ketentuan berikut ini :\n",
        "\n",
        "\n",
        "1.   User diminta memasukkan angka (tahun)\n",
        "2.   Program akan memproses angka yang dimasukkan kemudian akan dicek apakah tahun yang dimasukkan merupakan tahun kabisat atau bukan\n",
        "3. Program akan menampilkan angka yang dimasukkan oleh user disertai hasil pengecekan apakah merupakan tahun kabisat atau bukan tahun kabisat\n",
        "\n",
        "\n",
        "\n"
      ],
      "metadata": {
        "id": "fvHXYgbL3OC1"
      }
    },
    {
      "cell_type": "code",
      "execution_count": null,
      "metadata": {
        "colab": {
          "base_uri": "https://localhost:8080/"
        },
        "id": "R4sQwIxhVJuq",
        "outputId": "6ded0b68-dcac-42da-d362-19e07b1576c4"
      },
      "outputs": [
        {
          "output_type": "stream",
          "name": "stdout",
          "text": [
            "Masukkan tahun: 1999\n",
            "Tahun 1999 bukan tahun kabisat\n"
          ]
        }
      ],
      "source": [
        "tahun = int(input(\"Masukkan tahun: \"))\n",
        "if (tahun % 4 == 0 and tahun % 100 != 0) or (tahun % 400 == 0):\n",
        "  print(f\"Tahun {tahun} adalah tahun kabisat\")\n",
        "else:\n",
        "  print(f\"Tahun {tahun} bukan tahun kabisat\")\n"
      ]
    },
    {
      "cell_type": "markdown",
      "source": [
        "# <h3 id=\"WeeklyExercise2\">Weekly Exercise 2</h3>\n",
        "\n",
        "Silahkan buat kode program untuk menunjukkan angka terbesar berdasarkan 3 angka yang di inputkan oleh user dengan ketentuan berikut ini :\n",
        "\n",
        "\n",
        "1.   User diminta memasukkan angka pertama\n",
        "2.   User diminta memasukkan angka kedua\n",
        "3. User diminta memasukkan angka ketiga\n",
        "4. Program akan mengecek di antara ketiga angka yang dimasukkan, angka manakah yang nilai nya paling besar\n",
        "5. Program akan menampilkan angka pertama, angka kedua, angka ketiga, serta menampilkan pernyataan manakah angka yang paling besar di antara ketiga angka yang dimasukkan\n",
        "\n"
      ],
      "metadata": {
        "id": "sHNINS-y3tpB"
      }
    },
    {
      "cell_type": "code",
      "source": [
        "angka1 = int(input(\"Masukkan angka pertama: \"))\n",
        "angka2 = int(input(\"Masukkan angka kedua: \"))\n",
        "angka3 = int(input(\"Masukkan angka ketiga: \"))\n",
        "\n",
        "if angka1 > angka2 and angka1 > angka3:\n",
        "  print(f\"Dari angka {angka1}, {angka2}, dan {angka3}. Angka terbesar adalah {angka1}\")\n",
        "elif angka2 > angka1 and angka2 > angka3:\n",
        "    print(f\"Dari angka {angka1}, {angka2}, dan {angka3}. Angka terbesar adalah {angka2}\")\n",
        "else:\n",
        "    print(f\"Dari angka {angka1}, {angka2}, dan {angka3}. Angka terbesar adalah {angka3}\")"
      ],
      "metadata": {
        "colab": {
          "base_uri": "https://localhost:8080/"
        },
        "id": "zE50486XY1E1",
        "outputId": "fd3704b3-f981-42ec-b3ba-2bcbc06055bf"
      },
      "execution_count": 1,
      "outputs": [
        {
          "output_type": "stream",
          "name": "stdout",
          "text": [
            "Masukkan angka pertama: 6\n",
            "Masukkan angka kedua: 2\n",
            "Masukkan angka ketiga: 4\n",
            "Dari angka 6, 2, dan 4. Angka terbesar adalah 6\n"
          ]
        }
      ]
    },
    {
      "cell_type": "markdown",
      "source": [
        "# <h3 id=\"WeeklyExercise3\">Weekly Exercise 3</h3>\n",
        "\n",
        "Buatlah kode program untuk menghitung jumlah yang harus dibayarkan konsumen pusat perbelanjaan dengan ketentuan sebagai berikut :\n",
        "\n",
        "1.   Terdapat 2 jenis konsumen, yaitu member dan non member\n",
        "2.   Apabila total belanja lebih dari 100.000 maka berhak mendapatkan diskon 3 persen\n",
        "3. Apabila total belanja lebih dari 200.000 maka berhak mendapatkan diskon 4 persen\n",
        "4. Setiap pembelian yang dilakukan oleh member mendapatkan tambahan diskon 2 persen\n",
        "\n"
      ],
      "metadata": {
        "id": "UlSlU16V4A3O"
      }
    },
    {
      "cell_type": "code",
      "source": [
        "kategori = input(\"Member/Nonmember : \")\n",
        "belanja = int(input(\"Masukkan total belanja: \"))\n",
        "diskon = 0\n",
        "\n",
        "if belanja > 200000:\n",
        "  diskon = 4\n",
        "elif belanja > 100000:\n",
        "  diskon = 3\n",
        "\n",
        "if kategori == \"Member\":\n",
        "  diskon += 2\n",
        "\n",
        "total_diskon = belanja * (diskon / 100)\n",
        "total = belanja - total_diskon\n",
        "print(f\"Total belanja: {belanja}\")\n",
        "print(f\"Total diskon: {total_diskon}\")\n",
        "print(f\"Total yang harus dibayar: {total}\")\n"
      ],
      "metadata": {
        "colab": {
          "base_uri": "https://localhost:8080/"
        },
        "id": "uhPStIttcjV1",
        "outputId": "ed88c15e-8aef-442f-e040-bc91d2c72653"
      },
      "execution_count": null,
      "outputs": [
        {
          "output_type": "stream",
          "name": "stdout",
          "text": [
            "Member/Nonmember : Nonmember\n",
            "Masukkan total belanja: 150000\n",
            "Total belanja: 150000\n",
            "Total diskon: 4500.0\n",
            "Total yang harus dibayar: 145500.0\n"
          ]
        }
      ]
    },
    {
      "cell_type": "markdown",
      "source": [
        "## <h3 id=\"WeeklyExercise4\">Weekly Exercise 4</h3>\n",
        "\n",
        "Buatlah kode program untuk membuat user baru pada sebuah sistem, dengan ketentuan sebagai berikut:\n",
        "\n",
        "\n",
        "1.   User perlu memasukkan username, email, dan password\n",
        "2.   User baru hanya akan sukses dibuat apabila:\n",
        "      *   username tidak boleh kosong\n",
        "      *   terdapat \"@\" pada alamat email\n",
        "      *   panjang password lebih dari 8 karakter\n",
        "\n",
        "\n",
        "\n",
        "\n",
        "\n",
        "\n"
      ],
      "metadata": {
        "id": "2GrcS12tOkr2"
      }
    },
    {
      "cell_type": "code",
      "source": [
        "print(\"Selamat datang ayo buat akun baru!!\")\n",
        "username = input(\"Masukkan username: \")\n",
        "email = input(\"Masukkan email: \")\n",
        "password = input(\"Masukkan password: \")\n",
        "\n",
        "if not username:\n",
        "  print(\"Error, Username tidak boleh kosong\")\n",
        "elif not \"@\" in email:\n",
        "  print(\"Error, Email tidak valid\")\n",
        "elif len(password) < 8:\n",
        "  print(\"Error, Password minimal 8 karakter\")\n",
        "else:\n",
        "  print(\"Selamat akunmu berhasil dibuat\")\n",
        "\n"
      ],
      "metadata": {
        "colab": {
          "base_uri": "https://localhost:8080/"
        },
        "id": "-RzlL0yJfcAw",
        "outputId": "1a13d4dd-7e65-45b4-bd7f-efc4c3cf1302"
      },
      "execution_count": null,
      "outputs": [
        {
          "output_type": "stream",
          "name": "stdout",
          "text": [
            "Selamat datang ayo buat akun baru!!\n",
            "Masukkan username: AnakBaik\n",
            "Masukkan email: anakbaik@gmail.com\n",
            "Masukkan password: anakbaik123\n",
            "Selamat akunmu berhasil dibuat\n"
          ]
        }
      ]
    },
    {
      "cell_type": "code",
      "source": [],
      "metadata": {
        "id": "lgyfmlybn2Yx"
      },
      "execution_count": null,
      "outputs": []
    }
  ]
}