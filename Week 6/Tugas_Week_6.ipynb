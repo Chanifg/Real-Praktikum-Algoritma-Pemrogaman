{
  "nbformat": 4,
  "nbformat_minor": 0,
  "metadata": {
    "colab": {
      "provenance": []
    },
    "kernelspec": {
      "name": "python3",
      "display_name": "Python 3"
    },
    "language_info": {
      "name": "python"
    }
  },
  "cells": [
    {
      "cell_type": "markdown",
      "source": [
        "**Exercise 1**"
      ],
      "metadata": {
        "id": "hj2bx7DqgAy3"
      }
    },
    {
      "cell_type": "code",
      "source": [
        "n = int(input('Masukan Jumlah Baris yang diinginkan: '))\n",
        "\n",
        "for i in range(1, n+1):\n",
        "  for j in range(n-i):\n",
        "    print(' ', end='')\n",
        "  print(\"* \" * i)"
      ],
      "metadata": {
        "colab": {
          "base_uri": "https://localhost:8080/"
        },
        "id": "Gi9mhRrfbd01",
        "outputId": "0a301916-7637-49ed-af9e-18ed3b4cfc40"
      },
      "execution_count": 5,
      "outputs": [
        {
          "output_type": "stream",
          "name": "stdout",
          "text": [
            "Masukan Jumlah Baris yang diinginkan: 5\n",
            "    * \n",
            "   * * \n",
            "  * * * \n",
            " * * * * \n",
            "* * * * * \n"
          ]
        }
      ]
    },
    {
      "cell_type": "markdown",
      "source": [
        "**Exercise 2**"
      ],
      "metadata": {
        "id": "g__ZW6qF0BVy"
      }
    },
    {
      "cell_type": "code",
      "source": [
        "n = int(input('Masukan Jumlah Baris yang diinginkan: '))\n",
        "\n",
        "for i in range(n):\n",
        "  print(' ' * (n - i), end='')\n",
        "  k = 1\n",
        "  for j in range(i + 1):\n",
        "    print(k, end=' ')\n",
        "    k = k * (i - j) // (j + 1)\n",
        "  print()\n",
        ""
      ],
      "metadata": {
        "id": "0qAqEHzRdQPQ",
        "colab": {
          "base_uri": "https://localhost:8080/"
        },
        "outputId": "f8d48ed4-7088-443f-8193-d65d09b1bbb4"
      },
      "execution_count": 75,
      "outputs": [
        {
          "output_type": "stream",
          "name": "stdout",
          "text": [
            "Masukan Jumlah Baris yang diinginkan: 5\n",
            "     1 \n",
            "    1 1 \n",
            "   1 2 1 \n",
            "  1 3 3 1 \n",
            " 1 4 6 4 1 \n"
          ]
        }
      ]
    },
    {
      "cell_type": "markdown",
      "source": [
        "**Exercise 3**"
      ],
      "metadata": {
        "id": "pyGKcXbK_hAF"
      }
    },
    {
      "cell_type": "code",
      "source": [
        "n = int(input('Masukkan baris segitiga Pascal yang diinginkan: '))\n",
        "k = 1\n",
        "jumlah = 0\n",
        "\n",
        "for j in range(n):\n",
        "    print(k, end=' ')\n",
        "    jumlah += k\n",
        "    k = k * (i - j) // (j + 1)\n",
        "print()\n",
        "print('Jumlah elemen pada baris ke-', n, 'adalah:', jumlah)\n",
        "\n"
      ],
      "metadata": {
        "colab": {
          "base_uri": "https://localhost:8080/"
        },
        "id": "iWOpLV8m1CJE",
        "outputId": "3c9c2182-96fe-43fb-c458-24528a070bd7"
      },
      "execution_count": 77,
      "outputs": [
        {
          "output_type": "stream",
          "name": "stdout",
          "text": [
            "Masukkan baris segitiga Pascal yang diinginkan: 5\n",
            "1 4 6 4 1 \n",
            "Jumlah elemen pada baris ke- 5 adalah: 16\n"
          ]
        }
      ]
    },
    {
      "cell_type": "code",
      "source": [],
      "metadata": {
        "id": "eQDI2zsL7MCP"
      },
      "execution_count": null,
      "outputs": []
    }
  ]
}