{
  "nbformat": 4,
  "nbformat_minor": 0,
  "metadata": {
    "colab": {
      "provenance": []
    },
    "kernelspec": {
      "name": "python3",
      "display_name": "Python 3"
    },
    "language_info": {
      "name": "python"
    }
  },
  "cells": [
    {
      "cell_type": "markdown",
      "source": [
        "Say Hello To The World\n"
      ],
      "metadata": {
        "id": "2MEOsl1FNGOF"
      }
    },
    {
      "cell_type": "code",
      "source": [
        "# Try your frist Python output\n",
        "print('Hello, Rombel 02')"
      ],
      "metadata": {
        "colab": {
          "base_uri": "https://localhost:8080/"
        },
        "id": "-yhHC5f7NWgD",
        "outputId": "6501593d-e6d4-4db6-f237-fddd1f2a6227"
      },
      "execution_count": null,
      "outputs": [
        {
          "output_type": "stream",
          "name": "stdout",
          "text": [
            "Hello, Rombel 02\n"
          ]
        }
      ]
    },
    {
      "cell_type": "code",
      "source": [
        "# Try to display \"Teknologi Informasi - Unversitas Tidar\n",
        "print(\"Universitas Tidar\")"
      ],
      "metadata": {
        "colab": {
          "base_uri": "https://localhost:8080/"
        },
        "id": "9V_BtVnnOdvk",
        "outputId": "f96c2108-4eed-45d2-95fd-96788cc6a7f3"
      },
      "execution_count": null,
      "outputs": [
        {
          "output_type": "stream",
          "name": "stdout",
          "text": [
            "Universitas Tidar\n"
          ]
        }
      ]
    },
    {
      "cell_type": "code",
      "source": [
        "# Check the Python Version\n",
        "import sys\n",
        "print(sys.version)"
      ],
      "metadata": {
        "colab": {
          "base_uri": "https://localhost:8080/"
        },
        "id": "bB_CVqbGQ7Ms",
        "outputId": "ff46e07d-f4cf-404c-bb14-c8b5fa03b568"
      },
      "execution_count": null,
      "outputs": [
        {
          "output_type": "stream",
          "name": "stdout",
          "text": [
            "3.10.12 (main, Jul 29 2024, 16:56:48) [GCC 11.4.0]\n"
          ]
        }
      ]
    },
    {
      "cell_type": "code",
      "source": [
        "# Practice on writing comments\n",
        "print('Hello, Python') #This line prints a string\n",
        "print('hi') #To print Hi"
      ],
      "metadata": {
        "colab": {
          "base_uri": "https://localhost:8080/"
        },
        "id": "U5nBVuRKR3qr",
        "outputId": "22107a0b-96dc-4292-e656-ab19181f03ff"
      },
      "execution_count": null,
      "outputs": [
        {
          "output_type": "stream",
          "name": "stdout",
          "text": [
            "Hello, Python\n",
            "hi\n"
          ]
        }
      ]
    },
    {
      "cell_type": "code",
      "source": [
        "# Print string as error messege\n",
        "frint(\"Hello, Python\")"
      ],
      "metadata": {
        "colab": {
          "base_uri": "https://localhost:8080/",
          "height": 159
        },
        "id": "opFnH5GnSg2S",
        "outputId": "914e1952-c30f-4dc2-d915-4c3733ee684a"
      },
      "execution_count": null,
      "outputs": [
        {
          "output_type": "error",
          "ename": "NameError",
          "evalue": "name 'frint' is not defined",
          "traceback": [
            "\u001b[0;31m---------------------------------------------------------------------------\u001b[0m",
            "\u001b[0;31mNameError\u001b[0m                                 Traceback (most recent call last)",
            "\u001b[0;32m<ipython-input-11-7043a8b01acb>\u001b[0m in \u001b[0;36m<cell line: 2>\u001b[0;34m()\u001b[0m\n\u001b[1;32m      1\u001b[0m \u001b[0;31m# Print string as error messege\u001b[0m\u001b[0;34m\u001b[0m\u001b[0;34m\u001b[0m\u001b[0m\n\u001b[0;32m----> 2\u001b[0;31m \u001b[0mfrint\u001b[0m\u001b[0;34m(\u001b[0m\u001b[0;34m\"Hello, Python\"\u001b[0m\u001b[0;34m)\u001b[0m\u001b[0;34m\u001b[0m\u001b[0;34m\u001b[0m\u001b[0m\n\u001b[0m",
            "\u001b[0;31mNameError\u001b[0m: name 'frint' is not defined"
          ]
        }
      ]
    },
    {
      "cell_type": "code",
      "source": [
        "# Try to see build in error message\n",
        "\n",
        "print(\"Hello, Python!\")"
      ],
      "metadata": {
        "colab": {
          "base_uri": "https://localhost:8080/"
        },
        "id": "T0kIhnfgTGJS",
        "outputId": "f0c57307-9c79-4b1d-dc08-9f80e4d33b5e"
      },
      "execution_count": null,
      "outputs": [
        {
          "output_type": "stream",
          "name": "stdout",
          "text": [
            "Hello, Python!\n"
          ]
        }
      ]
    },
    {
      "cell_type": "code",
      "source": [
        "# Print string and error to see teh running order\n",
        "print(\"this will be printed\")\n",
        "frint(\"This will cause an error\")\n",
        "print(\"this will NOT be printed\")"
      ],
      "metadata": {
        "id": "nTbSph2hjohj",
        "outputId": "b3f096a1-62fd-4817-8844-063e73a2b9d7",
        "colab": {
          "base_uri": "https://localhost:8080/",
          "height": 211
        }
      },
      "execution_count": null,
      "outputs": [
        {
          "output_type": "stream",
          "name": "stdout",
          "text": [
            "this will be printed\n"
          ]
        },
        {
          "output_type": "error",
          "ename": "NameError",
          "evalue": "name 'frint' is not defined",
          "traceback": [
            "\u001b[0;31m---------------------------------------------------------------------------\u001b[0m",
            "\u001b[0;31mNameError\u001b[0m                                 Traceback (most recent call last)",
            "\u001b[0;32m<ipython-input-57-e99a0a7711a8>\u001b[0m in \u001b[0;36m<cell line: 3>\u001b[0;34m()\u001b[0m\n\u001b[1;32m      1\u001b[0m \u001b[0;31m# Print string and error to see teh running order\u001b[0m\u001b[0;34m\u001b[0m\u001b[0;34m\u001b[0m\u001b[0m\n\u001b[1;32m      2\u001b[0m \u001b[0mprint\u001b[0m\u001b[0;34m(\u001b[0m\u001b[0;34m\"this will be printed\"\u001b[0m\u001b[0;34m)\u001b[0m\u001b[0;34m\u001b[0m\u001b[0;34m\u001b[0m\u001b[0m\n\u001b[0;32m----> 3\u001b[0;31m \u001b[0mfrint\u001b[0m\u001b[0;34m(\u001b[0m\u001b[0;34m\"This will cause an error\"\u001b[0m\u001b[0;34m)\u001b[0m\u001b[0;34m\u001b[0m\u001b[0;34m\u001b[0m\u001b[0m\n\u001b[0m\u001b[1;32m      4\u001b[0m \u001b[0mprint\u001b[0m\u001b[0;34m(\u001b[0m\u001b[0;34m\"this will NOT be printed\"\u001b[0m\u001b[0;34m)\u001b[0m\u001b[0;34m\u001b[0m\u001b[0;34m\u001b[0m\u001b[0m\n",
            "\u001b[0;31mNameError\u001b[0m: name 'frint' is not defined"
          ]
        }
      ]
    },
    {
      "cell_type": "code",
      "source": [
        "# Print string and error to see teh running order\n",
        "print(\"this will be printed\")\n",
        "print(\"This will cause an error\")\n",
        "print(\"this will NOT be printed\")"
      ],
      "metadata": {
        "colab": {
          "base_uri": "https://localhost:8080/"
        },
        "id": "0dSAnS2GTnKa",
        "outputId": "9b76f4f1-53dd-4f0f-d03c-f45759af1041"
      },
      "execution_count": null,
      "outputs": [
        {
          "output_type": "stream",
          "name": "stdout",
          "text": [
            "this will be printed\n",
            "This will cause an error\n",
            "this will NOT be printed\n"
          ]
        }
      ]
    },
    {
      "cell_type": "code",
      "source": [
        "# Write your code below and press Shift+Enter to execute\n",
        "print(\"Hello, World\")"
      ],
      "metadata": {
        "id": "0tTBtoOtUV6g",
        "colab": {
          "base_uri": "https://localhost:8080/"
        },
        "outputId": "2d79d604-a84a-45e5-a74e-767162665199"
      },
      "execution_count": 1,
      "outputs": [
        {
          "output_type": "stream",
          "name": "stdout",
          "text": [
            "Hello, World\n"
          ]
        }
      ]
    },
    {
      "cell_type": "code",
      "source": [
        "# Latihan Minggu pertama\n",
        "print(\"Nama          : Achmad Chanif Rahmatullah\")\n",
        "print(\"\\n\")\n",
        "print(\"NPM           : 2420506025\")\n",
        "print(\"\\n\")\n",
        "print(\"Alamat        : Ngadikusuman, Ketek, Wonosobo\")\n",
        "print(\"\\n\")\n",
        "print(\"Tinggi Badan  : 181\")\n",
        "print(\"\\n\")\n",
        "print(\"Berat Badan   : 65\")"
      ],
      "metadata": {
        "colab": {
          "base_uri": "https://localhost:8080/"
        },
        "id": "972_5WXNVXE2",
        "outputId": "04b25abd-ec70-4293-9e41-16588aaf0c0d"
      },
      "execution_count": 3,
      "outputs": [
        {
          "output_type": "stream",
          "name": "stdout",
          "text": [
            "Nama          : Achmad Chanif Rahmatullah\n",
            "\n",
            "\n",
            "NPM           : 2420506025\n",
            "\n",
            "\n",
            "Alamat        : Ngadikusuman, Ketek, Wonosobo\n",
            "\n",
            "\n",
            "Tinggi Badan  : 181\n",
            "\n",
            "\n",
            "Berat Badan   : 65\n"
          ]
        }
      ]
    },
    {
      "cell_type": "code",
      "source": [
        "class color:\n",
        "    BOLD = '\\033[1m'\n",
        "    END = '\\033[0m'\n",
        "print(color.BOLD + \"UNIVERSITAS TIDAR\" + color.END)\n",
        "print(\"Universitas Tidar merupakan Perguruan Tinggi Pemerintah atau Perguruan Tinggi Negeri yang telah di tetapkan berdasarkan Peraturan Presiden Replubik Indonesia Nomoor 23 Tahun 2014 pada tanggal 1 April 2014\")\n",
        "print(\"\\n\")\n",
        "print(color.BOLD + \"JURUSAN TEKNIK ELEKTRO, MEKATRONIKA DAN INFORMASI\" + color.END)\n",
        "print(\"Jurusan Teknik Elektro terdiri atas tiga progam studi, antara lain:\")\n",
        "print(\"   1. S1 Teknik Elektro \\x1B[3m(Bachelor of Electrical Engineering)\\033[0m \")\n",
        "print(\"   2. S1 Teknologgi Informasi \\x1B[3m(Bachelor of Information Technology)\\033[0m\")\n",
        "print(\"   3. S1 Teknik Mekatronika \\x1B[3m(Bachelor of Mechatronics Engieering)\\033[0m\")\n"
      ],
      "metadata": {
        "colab": {
          "base_uri": "https://localhost:8080/"
        },
        "id": "HIXmWz8QWGb_",
        "outputId": "ce48e1f1-5e37-4c69-87ba-3e1e25711045"
      },
      "execution_count": 15,
      "outputs": [
        {
          "output_type": "stream",
          "name": "stdout",
          "text": [
            "\u001b[1mUNIVERSITAS TIDAR\u001b[0m\n",
            "Universitas Tidar merupakan Perguruan Tinggi Pemerintah atau Perguruan Tinggi Negeri yang telah di tetapkan berdasarkan Peraturan Presiden Replubik Indonesia Nomoor 23 Tahun 2014 pada tanggal 1 April 2014\n",
            "\n",
            "\n",
            "\u001b[1mJURUSAN TEKNIK ELEKTRO, MEKATRONIKA DAN INFORMASI\u001b[0m\n",
            "Jurusan Teknik Elektro terdiri atas tiga progam studi, antara lain:\n",
            "   1. S1 Teknik Elektro \u001b[3m(Bachelor of Electrical Engineering)\u001b[0m \n",
            "   2. S1 Teknologgi Informasi \u001b[3m(Bachelor of Information Technology)\u001b[0m\n",
            "   3. S1 Teknik Mekatronika \u001b[3m(Bachelor of Mechatronics Engieering)\u001b[0m\n"
          ]
        }
      ]
    },
    {
      "cell_type": "code",
      "source": [],
      "metadata": {
        "id": "JuANHjiAeTik"
      },
      "execution_count": null,
      "outputs": []
    },
    {
      "cell_type": "markdown",
      "source": [],
      "metadata": {
        "id": "5AWwNMe4XrsO"
      }
    }
  ]
}