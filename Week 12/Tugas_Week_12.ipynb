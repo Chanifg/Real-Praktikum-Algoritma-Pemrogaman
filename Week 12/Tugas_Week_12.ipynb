{
  "cells": [
    {
      "cell_type": "code",
      "execution_count": null,
      "metadata": {
        "colab": {
          "base_uri": "https://localhost:8080/"
        },
        "id": "gRnDndQVtNA3",
        "outputId": "5c71e4eb-4535-451b-8d49-990a4ef1faef"
      },
      "outputs": [
        {
          "name": "stdout",
          "output_type": "stream",
          "text": [
            "Variabel 'x' tidak didefiniskan\n"
          ]
        }
      ],
      "source": [
        "#the try block will generate an exception, because x is not defined:\n",
        "try:\n",
        "  print(x)\n",
        "except:\n",
        "  print(\"Variabel 'x' tidak didefiniskan\")"
      ]
    },
    {
      "cell_type": "markdown",
      "source": [],
      "metadata": {
        "id": "UAz92Ck0g3LD"
      }
    },
    {
      "cell_type": "code",
      "execution_count": null,
      "metadata": {
        "colab": {
          "base_uri": "https://localhost:8080/",
          "height": 159
        },
        "id": "9Ip7mS6Ht1-P",
        "outputId": "03b782d1-a285-4134-e356-656d2594c4b6"
      },
      "outputs": [
        {
          "ename": "NameError",
          "evalue": "name 'X' is not defined",
          "output_type": "error",
          "traceback": [
            "\u001b[0;31m---------------------------------------------------------------------------\u001b[0m",
            "\u001b[0;31mNameError\u001b[0m                                 Traceback (most recent call last)",
            "\u001b[0;32m<ipython-input-4-eb9dd3b333d5>\u001b[0m in \u001b[0;36m<cell line: 2>\u001b[0;34m()\u001b[0m\n\u001b[1;32m      1\u001b[0m \u001b[0;31m#this statement will raise an error, because x is not defined:\u001b[0m\u001b[0;34m\u001b[0m\u001b[0;34m\u001b[0m\u001b[0m\n\u001b[0;32m----> 2\u001b[0;31m \u001b[0mprint\u001b[0m\u001b[0;34m(\u001b[0m\u001b[0mX\u001b[0m\u001b[0;34m)\u001b[0m\u001b[0;34m\u001b[0m\u001b[0;34m\u001b[0m\u001b[0m\n\u001b[0m",
            "\u001b[0;31mNameError\u001b[0m: name 'X' is not defined"
          ]
        }
      ],
      "source": [
        "#this statement will raise an error, because x is not defined:\n",
        "print(X)"
      ]
    },
    {
      "cell_type": "markdown",
      "metadata": {
        "id": "07Mpt_77vYsv"
      },
      "source": [
        "**Manny Exception**"
      ]
    },
    {
      "cell_type": "code",
      "execution_count": null,
      "metadata": {
        "colab": {
          "base_uri": "https://localhost:8080/"
        },
        "id": "Yci2AM1cuLdf",
        "outputId": "1d5ea362-998a-43b1-8390-e713c8063ed4"
      },
      "outputs": [
        {
          "name": "stdout",
          "output_type": "stream",
          "text": [
            "Variabel x is not defined\n"
          ]
        }
      ],
      "source": [
        "#Print one messege if the try block raises a NameError and another for other errors:\n",
        "try:\n",
        "  print(x)\n",
        "except NameError:\n",
        "  print(\"Variabel x is not defined\")\n",
        "except:\n",
        "  print(\"Something else went wrong\")"
      ]
    },
    {
      "cell_type": "markdown",
      "metadata": {
        "id": "8DBhequKvcQO"
      },
      "source": [
        "**Else**"
      ]
    },
    {
      "cell_type": "code",
      "execution_count": null,
      "metadata": {
        "colab": {
          "base_uri": "https://localhost:8080/"
        },
        "id": "Rgyyu1PXu1b3",
        "outputId": "7821a33a-64d6-4e8f-eaff-cabf10fa0518"
      },
      "outputs": [
        {
          "name": "stdout",
          "output_type": "stream",
          "text": [
            "Hello\n",
            "Nothing went wrong\n"
          ]
        }
      ],
      "source": [
        "#in this example, the try  block does not generate any error:\n",
        "\n",
        "try:\n",
        "  print(\"Hello\")\n",
        "except:\n",
        "  print(\"Someting went wrong\")\n",
        "else:\n",
        "  print(\"Nothing went wrong\")"
      ]
    },
    {
      "cell_type": "markdown",
      "metadata": {
        "id": "5FrsETJuvoNl"
      },
      "source": [
        "**Finally**"
      ]
    },
    {
      "cell_type": "code",
      "execution_count": null,
      "metadata": {
        "colab": {
          "base_uri": "https://localhost:8080/"
        },
        "id": "g_HEKVKuvPqn",
        "outputId": "42e112ed-01da-42ca-ff67-a0556f9fe4ec"
      },
      "outputs": [
        {
          "name": "stdout",
          "output_type": "stream",
          "text": [
            "Hello\n",
            "Nothing went wrong\n",
            "Execution Completed\n"
          ]
        }
      ],
      "source": [
        "#in this example, the try block does generate any error:\n",
        "\n",
        "try:\n",
        "  print(\"Hello\")\n",
        "except:\n",
        "  print(\"Something went wrong\")\n",
        "else:\n",
        "  print(\"Nothing went wrong\")\n",
        "finally:\n",
        "  print(\"Execution Completed\")"
      ]
    },
    {
      "cell_type": "code",
      "execution_count": null,
      "metadata": {
        "colab": {
          "base_uri": "https://localhost:8080/"
        },
        "id": "B2d_GULkv94_",
        "outputId": "edaa5f63-a671-418d-9080-e382451d4051"
      },
      "outputs": [
        {
          "name": "stdout",
          "output_type": "stream",
          "text": [
            "Something went wrong\n",
            "Execution Completed\n"
          ]
        }
      ],
      "source": [
        "try:\n",
        "  print(x)\n",
        "except:\n",
        "  print(\"Something went wrong\")\n",
        "finally:\n",
        "  print(\"Execution Completed\")"
      ]
    },
    {
      "cell_type": "code",
      "execution_count": null,
      "metadata": {
        "colab": {
          "base_uri": "https://localhost:8080/"
        },
        "id": "QPWFanxDxKLY",
        "outputId": "661390cd-e860-476d-eee7-72e32825959b"
      },
      "outputs": [
        {
          "name": "stdout",
          "output_type": "stream",
          "text": [
            "Something went wrong\n",
            "The 'try except' is finished\n"
          ]
        }
      ],
      "source": [
        "try:\n",
        "  print(x)\n",
        "except:\n",
        "  print(\"Something went wrong\")\n",
        "finally:\n",
        "  print(\"The 'try except' is finished\")"
      ]
    },
    {
      "cell_type": "code",
      "execution_count": null,
      "metadata": {
        "colab": {
          "base_uri": "https://localhost:8080/"
        },
        "id": "AncuoQkZxRpg",
        "outputId": "33864e53-4ffa-4cce-bd06-8f088fb26970"
      },
      "outputs": [
        {
          "name": "stdout",
          "output_type": "stream",
          "text": [
            "Someting went wrong when opening the file\n"
          ]
        }
      ],
      "source": [
        "try:\n",
        "  f = open(\"demofile.txt\")\n",
        "  try:\n",
        "    f.write(\"Lorum Ipsum\")\n",
        "  except:\n",
        "    print(\"Something went wrong when writting to the file\")\n",
        "  finally:\n",
        "    f.close()\n",
        "except:\n",
        "  print(\"Someting went wrong when opening the file\")"
      ]
    },
    {
      "cell_type": "code",
      "execution_count": null,
      "metadata": {
        "colab": {
          "base_uri": "https://localhost:8080/",
          "height": 176
        },
        "id": "LJnIbtvJx06A",
        "outputId": "ac2805f5-1ae0-4d1c-8980-a0a73fb125e3"
      },
      "outputs": [
        {
          "ename": "Exception",
          "evalue": "Sorry Broo",
          "output_type": "error",
          "traceback": [
            "\u001b[0;31m---------------------------------------------------------------------------\u001b[0m",
            "\u001b[0;31mException\u001b[0m                                 Traceback (most recent call last)",
            "\u001b[0;32m<ipython-input-15-1d2504a86963>\u001b[0m in \u001b[0;36m<cell line: 3>\u001b[0;34m()\u001b[0m\n\u001b[1;32m      2\u001b[0m \u001b[0;34m\u001b[0m\u001b[0m\n\u001b[1;32m      3\u001b[0m \u001b[0;32mif\u001b[0m \u001b[0mx\u001b[0m \u001b[0;34m<\u001b[0m \u001b[0;36m0\u001b[0m\u001b[0;34m:\u001b[0m\u001b[0;34m\u001b[0m\u001b[0;34m\u001b[0m\u001b[0m\n\u001b[0;32m----> 4\u001b[0;31m   \u001b[0;32mraise\u001b[0m \u001b[0mException\u001b[0m\u001b[0;34m(\u001b[0m\u001b[0;34m\"Sorry Broo\"\u001b[0m\u001b[0;34m)\u001b[0m\u001b[0;34m\u001b[0m\u001b[0;34m\u001b[0m\u001b[0m\n\u001b[0m",
            "\u001b[0;31mException\u001b[0m: Sorry Broo"
          ]
        }
      ],
      "source": [
        "x = -1\n",
        "\n",
        "if x < 0:\n",
        "  raise Exception(\"Sorry Broo\")"
      ]
    },
    {
      "cell_type": "code",
      "execution_count": null,
      "metadata": {
        "colab": {
          "base_uri": "https://localhost:8080/",
          "height": 176
        },
        "id": "3cIM45W9yYYv",
        "outputId": "5370ac54-5570-4722-8604-c2c5241783a6"
      },
      "outputs": [
        {
          "ename": "TypeError",
          "evalue": "Only integers are allowed",
          "output_type": "error",
          "traceback": [
            "\u001b[0;31m---------------------------------------------------------------------------\u001b[0m",
            "\u001b[0;31mTypeError\u001b[0m                                 Traceback (most recent call last)",
            "\u001b[0;32m<ipython-input-17-6f0efee7650e>\u001b[0m in \u001b[0;36m<cell line: 5>\u001b[0;34m()\u001b[0m\n\u001b[1;32m      4\u001b[0m \u001b[0;34m\u001b[0m\u001b[0m\n\u001b[1;32m      5\u001b[0m \u001b[0;32mif\u001b[0m \u001b[0;32mnot\u001b[0m \u001b[0mtype\u001b[0m\u001b[0;34m(\u001b[0m\u001b[0mx\u001b[0m\u001b[0;34m)\u001b[0m \u001b[0;32mis\u001b[0m \u001b[0mint\u001b[0m\u001b[0;34m:\u001b[0m\u001b[0;34m\u001b[0m\u001b[0;34m\u001b[0m\u001b[0m\n\u001b[0;32m----> 6\u001b[0;31m   \u001b[0;32mraise\u001b[0m \u001b[0mTypeError\u001b[0m\u001b[0;34m(\u001b[0m\u001b[0;34m\"Only integers are allowed\"\u001b[0m\u001b[0;34m)\u001b[0m\u001b[0;34m\u001b[0m\u001b[0;34m\u001b[0m\u001b[0m\n\u001b[0m",
            "\u001b[0;31mTypeError\u001b[0m: Only integers are allowed"
          ]
        }
      ],
      "source": [
        "#Raise a TypeError is x is not an integer:\n",
        "\n",
        "x = \"Hello\"\n",
        "\n",
        "if not type(x) is int:\n",
        "  raise TypeError(\"Only integers are allowed\")"
      ]
    },
    {
      "cell_type": "code",
      "execution_count": null,
      "metadata": {
        "colab": {
          "base_uri": "https://localhost:8080/",
          "height": 454
        },
        "id": "W7uBeWOL1KoK",
        "outputId": "6622de1b-b956-498d-904c-916523ec03e0"
      },
      "outputs": [
        {
          "name": "stdout",
          "output_type": "stream",
          "text": [
            "\n",
            "Program Kalkulator Luas\n",
            "=======================\n",
            "Anda ingin menghitung luas bangun datar apa?\n",
            "1. Lingkaran\n",
            "2. Persegi\n",
            "3. Segitiga\n",
            "4. Selesai\n",
            "Masukkan pilihan anda (1-4)!:h\n"
          ]
        },
        {
          "ename": "ValueError",
          "evalue": "invalid literal for int() with base 10: 'h'",
          "output_type": "error",
          "traceback": [
            "\u001b[0;31m---------------------------------------------------------------------------\u001b[0m",
            "\u001b[0;31mValueError\u001b[0m                                Traceback (most recent call last)",
            "\u001b[0;32m<ipython-input-18-2f486684004e>\u001b[0m in \u001b[0;36m<cell line: 45>\u001b[0;34m()\u001b[0m\n\u001b[1;32m     43\u001b[0m       \u001b[0mprint\u001b[0m\u001b[0;34m(\u001b[0m\u001b[0;34m\"Pilihan tidak valid. Silahkan coba lagi.\"\u001b[0m\u001b[0;34m)\u001b[0m\u001b[0;34m\u001b[0m\u001b[0;34m\u001b[0m\u001b[0m\n\u001b[1;32m     44\u001b[0m \u001b[0;34m\u001b[0m\u001b[0m\n\u001b[0;32m---> 45\u001b[0;31m \u001b[0mkalkulator_luas\u001b[0m\u001b[0;34m(\u001b[0m\u001b[0;34m)\u001b[0m\u001b[0;34m\u001b[0m\u001b[0;34m\u001b[0m\u001b[0m\n\u001b[0m",
            "\u001b[0;32m<ipython-input-18-2f486684004e>\u001b[0m in \u001b[0;36mkalkulator_luas\u001b[0;34m()\u001b[0m\n\u001b[1;32m     28\u001b[0m     \u001b[0mprint\u001b[0m\u001b[0;34m(\u001b[0m\u001b[0;34m\"4. Selesai\"\u001b[0m\u001b[0;34m)\u001b[0m\u001b[0;34m\u001b[0m\u001b[0;34m\u001b[0m\u001b[0m\n\u001b[1;32m     29\u001b[0m \u001b[0;34m\u001b[0m\u001b[0m\n\u001b[0;32m---> 30\u001b[0;31m     \u001b[0mpilihan\u001b[0m \u001b[0;34m=\u001b[0m \u001b[0mint\u001b[0m\u001b[0;34m(\u001b[0m\u001b[0minput\u001b[0m\u001b[0;34m(\u001b[0m\u001b[0;34m\"Masukkan pilihan anda (1-4)!:\"\u001b[0m\u001b[0;34m)\u001b[0m\u001b[0;34m)\u001b[0m\u001b[0;34m\u001b[0m\u001b[0;34m\u001b[0m\u001b[0m\n\u001b[0m\u001b[1;32m     31\u001b[0m     \u001b[0;32mif\u001b[0m \u001b[0;32mnot\u001b[0m \u001b[0mtype\u001b[0m\u001b[0;34m(\u001b[0m\u001b[0mpilihan\u001b[0m\u001b[0;34m)\u001b[0m \u001b[0;32mis\u001b[0m \u001b[0mint\u001b[0m\u001b[0;34m:\u001b[0m\u001b[0;34m\u001b[0m\u001b[0;34m\u001b[0m\u001b[0m\n\u001b[1;32m     32\u001b[0m       \u001b[0;32mraise\u001b[0m \u001b[0mTypeError\u001b[0m\u001b[0;34m(\u001b[0m\u001b[0;34m\"Pilihan harus berupa angka\"\u001b[0m\u001b[0;34m)\u001b[0m\u001b[0;34m\u001b[0m\u001b[0;34m\u001b[0m\u001b[0m\n",
            "\u001b[0;31mValueError\u001b[0m: invalid literal for int() with base 10: 'h'"
          ]
        }
      ],
      "source": []
    },
    {
      "cell_type": "markdown",
      "metadata": {
        "id": "ZVYIrF9C272g"
      },
      "source": [
        "**Weekly Exercise 1**"
      ]
    },
    {
      "cell_type": "code",
      "execution_count": null,
      "metadata": {
        "colab": {
          "base_uri": "https://localhost:8080/"
        },
        "id": "akIGNaFL2NIx",
        "outputId": "1de14cdd-6a12-4c2b-c5fa-fe54b438ea7d"
      },
      "outputs": [
        {
          "output_type": "stream",
          "name": "stdout",
          "text": [
            "\n",
            "Program kalkulator bangun datar\n",
            "================================\n",
            "Pilih Luas bangun datar yang akan dihitung: \n",
            "1.Lingkaran\n",
            "2.Persegi\n",
            "3.Keluar\n",
            "Masukkan pilihan Anda: 2\n",
            "Panjang sisi persegi: \n",
            "Input tidak boleh kosong.\n",
            "Panjang sisi persegi: f\n",
            "Invalid input. Input harus berupa angka desimal atau bulat.\n",
            "Panjang sisi persegi: 3\n",
            "Luas persegi dengan sisi 3.0 adalah: 9.0\n",
            "\n",
            "Program kalkulator bangun datar\n",
            "================================\n",
            "Pilih Luas bangun datar yang akan dihitung: \n",
            "1.Lingkaran\n",
            "2.Persegi\n",
            "3.Keluar\n",
            "Masukkan pilihan Anda: 3\n",
            "Program selesai, terima kasih\n"
          ]
        }
      ],
      "source": [
        "import matematika\n",
        "def validasi_pilihan(prompt):\n",
        "    while True:\n",
        "        try:\n",
        "            nilai = input(prompt)\n",
        "            if nilai == \"\":\n",
        "                print(\"Input tidak boleh kosong.\")\n",
        "                continue\n",
        "            else:\n",
        "                return int(nilai)\n",
        "        except ValueError:\n",
        "            print(\"Invalid input. Input harus berupa angka.\")\n",
        "def validasi_angka(prompt):\n",
        "    while True:\n",
        "        try:\n",
        "            nilai = input(prompt)\n",
        "            if nilai == \"\":\n",
        "                print(\"Input tidak boleh kosong.\")\n",
        "                continue\n",
        "            else:\n",
        "                return float(nilai)\n",
        "        except ValueError:\n",
        "            print(\"Invalid input. Input harus berupa angka desimal atau bulat.\")\n",
        "\n",
        "while True:\n",
        "  print()\n",
        "  print(\"Program kalkulator bangun datar\")\n",
        "  print(\"================================\")\n",
        "  print(\"Pilih Luas bangun datar yang akan dihitung: \")\n",
        "  print(\"1.Lingkaran\")\n",
        "  print(\"2.Persegi\")\n",
        "  print(\"3.Keluar\")\n",
        "\n",
        "  pilihan = validasi_pilihan(\"Masukkan pilihan Anda: \")\n",
        "\n",
        "  if pilihan == 1:\n",
        "    r = validasi_angka((\"Masukkan jari-jari lingkaran: \"))\n",
        "    luaslingkaran = matematika.luas_lingkaran(r)\n",
        "    print(f\"Luas lingkaran dengan jari-jari {r} adalah {luaslingkaran}\")\n",
        "  elif pilihan == 2:\n",
        "    s = validasi_angka((\"Panjang sisi persegi: \"))\n",
        "    luas_persegi = matematika.luas_persegi(s)\n",
        "    print(f\"Luas persegi dengan sisi {s} adalah: {luas_persegi}\")\n",
        "  elif pilihan == 3:\n",
        "    print(\"Program selesai, terima kasih\")\n",
        "    break\n",
        "  else:\n",
        "    print(\"Pilihan tidak valid. Silahkan coba lagi\")\n",
        "\n"
      ]
    },
    {
      "cell_type": "markdown",
      "metadata": {
        "id": "BlpqPzt_cdph"
      },
      "source": [
        "**Weekly Exercise 2**"
      ]
    },
    {
      "cell_type": "code",
      "execution_count": null,
      "metadata": {
        "colab": {
          "base_uri": "https://localhost:8080/"
        },
        "id": "J09__kbyD0Zm",
        "outputId": "73be0741-eae4-49ef-c195-0b2c69791448"
      },
      "outputs": [
        {
          "output_type": "stream",
          "name": "stdout",
          "text": [
            "Masukkan NPM: k\n",
            "Invalid input. Input harus berupa angka.\n",
            "Masukkan NPM: 8\n",
            "Jumlah bilangan ganjil adalah:  0\n",
            "Jumlah bilangan genap adalah:  1\n"
          ]
        }
      ],
      "source": [
        "def validasi_input(prompt):\n",
        "    while True:\n",
        "        try:\n",
        "            nilai = input(prompt)\n",
        "            if nilai == \"\":\n",
        "                print(\"Tidak boleh kosong.\")\n",
        "                continue\n",
        "            else:\n",
        "                return int(nilai)\n",
        "        except ValueError:\n",
        "            print(\"Invalid input. Input harus berupa angka.\")\n",
        "\n",
        "angka = validasi_input(\"Masukkan NPM: \")\n",
        "ganjil = 0\n",
        "genap = 0\n",
        "\n",
        "for digit in (angka):\n",
        "  if int(digit) % 2 == 0:\n",
        "    genap += 1\n",
        "  else:\n",
        "    ganjil += 1\n",
        "print(\"Jumlah bilangan ganjil adalah: \", ganjil)\n",
        "print(\"Jumlah bilangan genap adalah: \", genap)\n"
      ]
    }
  ],
  "metadata": {
    "colab": {
      "provenance": []
    },
    "kernelspec": {
      "display_name": "Python 3",
      "name": "python3"
    },
    "language_info": {
      "name": "python"
    }
  },
  "nbformat": 4,
  "nbformat_minor": 0
}