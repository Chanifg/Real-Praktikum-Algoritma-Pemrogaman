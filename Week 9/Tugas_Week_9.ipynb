{
  "nbformat": 4,
  "nbformat_minor": 0,
  "metadata": {
    "colab": {
      "provenance": []
    },
    "kernelspec": {
      "name": "python3",
      "display_name": "Python 3"
    },
    "language_info": {
      "name": "python"
    }
  },
  "cells": [
    {
      "cell_type": "markdown",
      "source": [
        "**Weekly Exercise 2**"
      ],
      "metadata": {
        "id": "gC4B6nC0bGg9"
      }
    },
    {
      "cell_type": "code",
      "execution_count": null,
      "metadata": {
        "colab": {
          "base_uri": "https://localhost:8080/"
        },
        "id": "mWF3BnCSjaVN",
        "outputId": "1668f428-96a2-405d-c4ad-2349f39a2eb1"
      },
      "outputs": [
        {
          "output_type": "stream",
          "name": "stdout",
          "text": [
            "Nama: Achmad Chanif Rahmatullah\n",
            "Kelas: Rombel 1\n",
            "Tanggal Lahir: 09 Juli 2004\n",
            "No HP: 085156627565\n",
            "Alamat: Kabutuh, Ngadikusuman, Kertek, Wonosobo\n",
            "Hobi:\n",
            "- Hiking\n",
            "- Nonton Film\n"
          ]
        }
      ],
      "source": [
        "list_mahasiswa = []\n",
        "\n",
        "def tambah_mahasiswa(nama, kelas, tanggal_lahir, no_hp, alamat, hobi):\n",
        "    \"\"\"Fungsi untuk menambahkan mahasiswa\"\"\"\n",
        "    list_mahasiswa.append({\n",
        "        \"nama\": nama,\n",
        "        \"kelas\": kelas,\n",
        "        \"tanggal_lahir\": tanggal_lahir,\n",
        "        \"no_hp\": no_hp,\n",
        "        \"alamat\": alamat,\n",
        "        \"hobi\": hobi\n",
        "    })\n",
        "\n",
        "def tampilkan_mahasiswa():\n",
        "    \"\"\"Fungsi untuk menampilkan daftar mahasiswa\"\"\"\n",
        "    for mahasiswa in list_mahasiswa:\n",
        "        print(f\"Nama: {mahasiswa['nama']}\")\n",
        "        print(f\"Kelas: {mahasiswa['kelas']}\")\n",
        "        print(f\"Tanggal Lahir: {mahasiswa['tanggal_lahir']}\")\n",
        "        print(f\"No HP: {mahasiswa['no_hp']}\")\n",
        "        print(f\"Alamat: {mahasiswa['alamat']}\")\n",
        "        print(\"Hobi:\")  # Tambahkan penjelasan \"Hobi:\"\n",
        "        for hobi in mahasiswa['hobi']:\n",
        "            print(f\"- {hobi}\")\n",
        "\n",
        "# Menambahkan data mahasiswa\n",
        "tambah_mahasiswa(\"Achmad Chanif Rahmatullah\", \"Rombel 1\", \"09 Juli 2004\", \"085156627565\", \"Kabutuh, Ngadikusuman, Kertek, Wonosobo\", [\"Hiking\", \"Nonton Film\"])\n",
        "\n",
        "# Menampilkan data mahasiswa\n",
        "tampilkan_mahasiswa()\n",
        "\n"
      ]
    },
    {
      "cell_type": "code",
      "source": [],
      "metadata": {
        "id": "VpiLDxXml4jj"
      },
      "execution_count": null,
      "outputs": []
    }
  ]
}